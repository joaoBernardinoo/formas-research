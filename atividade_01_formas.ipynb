{
  "nbformat": 4,
  "nbformat_minor": 0,
  "metadata": {
    "colab": {
      "provenance": [],
      "include_colab_link": true
    },
    "kernelspec": {
      "name": "python3",
      "display_name": "Python 3"
    }
  },
  "cells": [
    {
      "cell_type": "markdown",
      "metadata": {
        "id": "view-in-github",
        "colab_type": "text"
      },
      "source": [
        "<a href=\"https://colab.research.google.com/github/joaoBernardinoo/formas-research/blob/main/atividade_01_formas.ipynb\" target=\"_parent\"><img src=\"https://colab.research.google.com/assets/colab-badge.svg\" alt=\"Open In Colab\"/></a>"
      ]
    },
    {
      "cell_type": "code",
      "metadata": {
        "id": "jTIczJD7ItVX"
      },
      "source": [
        "import pickle\n",
        "import nltk\n",
        "import pandas as pd\n",
        "import numpy as np\n",
        "import spacy\n",
        "import spacy.cli\n",
        "from sklearn.model_selection import train_test_split"
      ],
      "execution_count": 8,
      "outputs": []
    },
    {
      "cell_type": "markdown",
      "source": [],
      "metadata": {
        "id": "sytvxxbuSfSH"
      }
    },
    {
      "cell_type": "code",
      "source": [
        "!pip install conllu\n",
        "!wget http://marlovss.work.gd:8080/tomorrow/aula2/bosque.conllu"
      ],
      "metadata": {
        "id": "HnkdNxnCmtn8",
        "colab": {
          "base_uri": "https://localhost:8080/"
        },
        "outputId": "1138e868-1ee3-4318-e388-1e99b6a36a37",
        "collapsed": true
      },
      "execution_count": 9,
      "outputs": [
        {
          "output_type": "stream",
          "name": "stdout",
          "text": [
            "Requirement already satisfied: conllu in /usr/local/lib/python3.10/dist-packages (6.0.0)\n",
            "--2024-10-25 01:34:35--  http://marlovss.work.gd:8080/tomorrow/aula2/bosque.conllu\n",
            "Resolving marlovss.work.gd (marlovss.work.gd)... 177.180.148.12\n",
            "Connecting to marlovss.work.gd (marlovss.work.gd)|177.180.148.12|:8080... connected.\n",
            "HTTP request sent, awaiting response... 200 OK\n",
            "Length: 11291250 (11M)\n",
            "Saving to: ‘bosque.conllu.2’\n",
            "\n",
            "bosque.conllu.2     100%[===================>]  10.77M  4.40MB/s    in 2.4s    \n",
            "\n",
            "2024-10-25 01:34:38 (4.40 MB/s) - ‘bosque.conllu.2’ saved [11291250/11291250]\n",
            "\n"
          ]
        }
      ]
    },
    {
      "cell_type": "code",
      "source": [
        "import conllu\n",
        "import itertools as it\n",
        "\n",
        "class AttributeDict(dict):\n",
        "    __getattr__ = dict.__getitem__\n",
        "    __setattr__ = dict.__setitem__\n",
        "    __delattr__ = dict.__delitem__\n",
        "\n",
        "class CoNLLU:\n",
        "   def __init__(self, files):\n",
        "      self.words = []\n",
        "      self.sentences = []\n",
        "      for f in files:\n",
        "         parsed = conllu.parse(open(f).read())\n",
        "         sents = [[AttributeDict(form = token['form'], lemma=token['lemma'],pos=token['upos'],feats=token['feats']) for token in tokenlist if token['upos']!='_'] for tokenlist in parsed]\n",
        "         self.sentences.extend(sents)\n",
        "         self.words.extend([word for sent in sents for word in sent])\n",
        "      self.pos_tags = set([word.pos for word in self.words])\n",
        "      self.feats_dict ={pos:set(it.chain.from_iterable([list(word.feats.keys()) for word in self.words if word.pos==pos and word.feats!= None])) for pos in self.pos_tags}\n"
      ],
      "metadata": {
        "id": "6whsxfkKmTnz"
      },
      "execution_count": 10,
      "outputs": []
    },
    {
      "cell_type": "code",
      "source": [
        "from google.colab import drive\n",
        "drive.mount('/content/drive')"
      ],
      "metadata": {
        "colab": {
          "base_uri": "https://localhost:8080/"
        },
        "id": "c-TW_mVFMzPK",
        "outputId": "1dad7bc2-6d7f-4244-d2bd-26971bb05082"
      },
      "execution_count": 11,
      "outputs": [
        {
          "output_type": "stream",
          "name": "stdout",
          "text": [
            "Mounted at /content/drive\n"
          ]
        }
      ]
    },
    {
      "cell_type": "code",
      "source": [
        "bosque = CoNLLU(files=[\"bosque.conllu\"])"
      ],
      "metadata": {
        "id": "JY5mcN4Em2zK"
      },
      "execution_count": 12,
      "outputs": []
    },
    {
      "cell_type": "code",
      "source": [
        "# aqui train_data, patch_data e test_data são o corpus \"bosque\" particionado por suas sentenćas, não palavras\n",
        "# deve-se verificar se todas as partićões abrangem todas as \"universal pos tags\"\n",
        "\n",
        "train_data, temp_data = train_test_split(bosque.sentences, test_size=0.1, random_state=42) # 90% train, 10% temp\n",
        "patch_data, test_data = train_test_split(temp_data, test_size=0.5, random_state=42) # Split the 10% into 5% patch and 5% test\n",
        "\n",
        "print(f\"Training data size: {len(train_data)}\")\n",
        "print(f\"Patch data size: {len(patch_data)}\")\n",
        "print(f\"Test data size: {len(test_data)}\")"
      ],
      "metadata": {
        "colab": {
          "base_uri": "https://localhost:8080/"
        },
        "id": "X670ynEPLr7D",
        "outputId": "1d1aba4e-ba31-4ccd-abda-c8fadf107d06"
      },
      "execution_count": 47,
      "outputs": [
        {
          "output_type": "stream",
          "name": "stdout",
          "text": [
            "Training data size: 6316\n",
            "Patch data size: 351\n",
            "Test data size: 351\n"
          ]
        }
      ]
    },
    {
      "cell_type": "code",
      "source": [
        "train_data[0]"
      ],
      "metadata": {
        "colab": {
          "base_uri": "https://localhost:8080/"
        },
        "id": "U-60soNSkHQu",
        "outputId": "23262e3c-b108-4916-9d0a-b90e32d0e6f8"
      },
      "execution_count": 48,
      "outputs": [
        {
          "output_type": "execute_result",
          "data": {
            "text/plain": [
              "[{'form': 'Afirmou',\n",
              "  'lemma': 'afirmar',\n",
              "  'pos': 'VERB',\n",
              "  'feats': {'Mood': 'Ind',\n",
              "   'Number': 'Sing',\n",
              "   'Person': '3',\n",
              "   'Tense': 'Past',\n",
              "   'VerbForm': 'Fin'}},\n",
              " {'form': 'que', 'lemma': 'que', 'pos': 'SCONJ', 'feats': None},\n",
              " {'form': 'o',\n",
              "  'lemma': 'o',\n",
              "  'pos': 'DET',\n",
              "  'feats': {'Definite': 'Def',\n",
              "   'Gender': 'Masc',\n",
              "   'Number': 'Sing',\n",
              "   'PronType': 'Art'}},\n",
              " {'form': 'conjunto',\n",
              "  'lemma': 'conjunto',\n",
              "  'pos': 'NOUN',\n",
              "  'feats': {'Gender': 'Masc', 'Number': 'Sing'}},\n",
              " {'form': 'de', 'lemma': 'de', 'pos': 'ADP', 'feats': None},\n",
              " {'form': 'fatos',\n",
              "  'lemma': 'fato',\n",
              "  'pos': 'NOUN',\n",
              "  'feats': {'Gender': 'Masc', 'Number': 'Plur'}},\n",
              " {'form': ',', 'lemma': ',', 'pos': 'PUNCT', 'feats': None},\n",
              " {'form': 'em', 'lemma': 'em', 'pos': 'ADP', 'feats': None},\n",
              " {'form': 'princípio',\n",
              "  'lemma': 'princípio',\n",
              "  'pos': 'NOUN',\n",
              "  'feats': {'Gender': 'Masc', 'Number': 'Sing'}},\n",
              " {'form': ',', 'lemma': ',', 'pos': 'PUNCT', 'feats': None},\n",
              " {'form': 'aponta',\n",
              "  'lemma': 'apontar',\n",
              "  'pos': 'VERB',\n",
              "  'feats': {'Mood': 'Ind',\n",
              "   'Number': 'Sing',\n",
              "   'Person': '3',\n",
              "   'Tense': 'Pres',\n",
              "   'VerbForm': 'Fin'}},\n",
              " {'form': 'o',\n",
              "  'lemma': 'o',\n",
              "  'pos': 'DET',\n",
              "  'feats': {'Definite': 'Def',\n",
              "   'Gender': 'Masc',\n",
              "   'Number': 'Sing',\n",
              "   'PronType': 'Art'}},\n",
              " {'form': 'envolvimento',\n",
              "  'lemma': 'envolvimento',\n",
              "  'pos': 'NOUN',\n",
              "  'feats': {'Gender': 'Masc', 'Number': 'Sing'}},\n",
              " {'form': 'de', 'lemma': 'de', 'pos': 'ADP', 'feats': None},\n",
              " {'form': 'Quércia',\n",
              "  'lemma': 'Quércia',\n",
              "  'pos': 'PROPN',\n",
              "  'feats': {'Gender': 'Masc', 'Number': 'Sing'}},\n",
              " {'form': '.', 'lemma': '.', 'pos': 'PUNCT', 'feats': None}]"
            ]
          },
          "metadata": {},
          "execution_count": 48
        }
      ]
    },
    {
      "cell_type": "code",
      "source": [
        "train_words = [word for sentence in train_data for word in sentence]"
      ],
      "metadata": {
        "id": "PJFWs_VVkK3r"
      },
      "execution_count": 55,
      "outputs": []
    },
    {
      "cell_type": "code",
      "source": [
        "from nltk.probability import FreqDist\n",
        "suffixes = set([word.form.lower()[-3:] for word in train_words])"
      ],
      "metadata": {
        "id": "7Hm33XPLszLa"
      },
      "execution_count": 59,
      "outputs": []
    },
    {
      "cell_type": "code",
      "source": [
        "# O artigo utiliza 3 ultimos caracteres do token do corpus anotado na lingua inglesa,\n",
        "# hipótese ( precisa testar ): a língua portuguesa é mais verbosa, seria 3 caracteres o suficiente\n",
        "# para, por exemplo, contemplar todas as conjugaćões verbais??\n",
        "\n",
        "try:\n",
        "    with open('/content/drive/MyDrive/Colab Notebooks/suf_to_tag.pkl', 'rb') as f:\n",
        "        suf_to_tag = pickle.load(f)\n",
        "except FileNotFoundError:\n",
        "    print(\"Arquivo nao encontrado, extraindo os sufixos...\")\n",
        "    suf_to_tag = {suf: FreqDist([word.pos for word in train_words if word.form.lower()[-3:] == suf]).max() for suf in suffixes}\n",
        "\n",
        "    with open('/content/drive/MyDrive/Colab Notebooks/suf_to_tag.pkl', 'wb') as f:\n",
        "        pickle.dump(suf_to_tag, f)"
      ],
      "metadata": {
        "id": "8TXGTGCISoZE",
        "colab": {
          "base_uri": "https://localhost:8080/"
        },
        "outputId": "70dffd38-b0db-4fa8-d126-3d4c9f3c1ac0"
      },
      "execution_count": 62,
      "outputs": [
        {
          "output_type": "stream",
          "name": "stdout",
          "text": [
            "Arquivo nao encontrado, extraindo os sufixos...\n"
          ]
        }
      ]
    },
    {
      "cell_type": "code",
      "source": [
        "rules = {\n",
        "    'ADJ': [],\n",
        "    'ADP': [],\n",
        "    'ADV': [],\n",
        "    'AUX': [],\n",
        "    'CCONJ': [],\n",
        "    'DET': [],\n",
        "    'INTJ': [],\n",
        "    'NOUN': [],\n",
        "    'NUM': [],\n",
        "    'PART': [],\n",
        "    'PRON': [],\n",
        "    'PROPN': [],\n",
        "    'PUNCT': [],\n",
        "    'SCONJ': [],\n",
        "    'SYM': [],\n",
        "    'VERB': [],\n",
        "    'X': []\n",
        "}\n",
        "\n",
        "df = pd.DataFrame(list(rules.items()), columns=['pos_tag', 'token'])\n",
        "df['token'] = df['token'].apply(set)\n"
      ],
      "metadata": {
        "id": "X1fphrrOYSFr"
      },
      "execution_count": 64,
      "outputs": []
    },
    {
      "cell_type": "code",
      "source": [
        "df.head()"
      ],
      "metadata": {
        "colab": {
          "base_uri": "https://localhost:8080/",
          "height": 206
        },
        "id": "w-WcpU31n-pN",
        "outputId": "e4bb351d-10f7-4b16-fff4-141972382e56",
        "collapsed": true
      },
      "execution_count": 65,
      "outputs": [
        {
          "output_type": "execute_result",
          "data": {
            "text/plain": [
              "  pos_tag token\n",
              "0     ADJ    {}\n",
              "1     ADP    {}\n",
              "2     ADV    {}\n",
              "3     AUX    {}\n",
              "4   CCONJ    {}"
            ],
            "text/html": [
              "\n",
              "  <div id=\"df-4d9e9de6-4943-45e5-a20a-59aaf6310b70\" class=\"colab-df-container\">\n",
              "    <div>\n",
              "<style scoped>\n",
              "    .dataframe tbody tr th:only-of-type {\n",
              "        vertical-align: middle;\n",
              "    }\n",
              "\n",
              "    .dataframe tbody tr th {\n",
              "        vertical-align: top;\n",
              "    }\n",
              "\n",
              "    .dataframe thead th {\n",
              "        text-align: right;\n",
              "    }\n",
              "</style>\n",
              "<table border=\"1\" class=\"dataframe\">\n",
              "  <thead>\n",
              "    <tr style=\"text-align: right;\">\n",
              "      <th></th>\n",
              "      <th>pos_tag</th>\n",
              "      <th>token</th>\n",
              "    </tr>\n",
              "  </thead>\n",
              "  <tbody>\n",
              "    <tr>\n",
              "      <th>0</th>\n",
              "      <td>ADJ</td>\n",
              "      <td>{}</td>\n",
              "    </tr>\n",
              "    <tr>\n",
              "      <th>1</th>\n",
              "      <td>ADP</td>\n",
              "      <td>{}</td>\n",
              "    </tr>\n",
              "    <tr>\n",
              "      <th>2</th>\n",
              "      <td>ADV</td>\n",
              "      <td>{}</td>\n",
              "    </tr>\n",
              "    <tr>\n",
              "      <th>3</th>\n",
              "      <td>AUX</td>\n",
              "      <td>{}</td>\n",
              "    </tr>\n",
              "    <tr>\n",
              "      <th>4</th>\n",
              "      <td>CCONJ</td>\n",
              "      <td>{}</td>\n",
              "    </tr>\n",
              "  </tbody>\n",
              "</table>\n",
              "</div>\n",
              "    <div class=\"colab-df-buttons\">\n",
              "\n",
              "  <div class=\"colab-df-container\">\n",
              "    <button class=\"colab-df-convert\" onclick=\"convertToInteractive('df-4d9e9de6-4943-45e5-a20a-59aaf6310b70')\"\n",
              "            title=\"Convert this dataframe to an interactive table.\"\n",
              "            style=\"display:none;\">\n",
              "\n",
              "  <svg xmlns=\"http://www.w3.org/2000/svg\" height=\"24px\" viewBox=\"0 -960 960 960\">\n",
              "    <path d=\"M120-120v-720h720v720H120Zm60-500h600v-160H180v160Zm220 220h160v-160H400v160Zm0 220h160v-160H400v160ZM180-400h160v-160H180v160Zm440 0h160v-160H620v160ZM180-180h160v-160H180v160Zm440 0h160v-160H620v160Z\"/>\n",
              "  </svg>\n",
              "    </button>\n",
              "\n",
              "  <style>\n",
              "    .colab-df-container {\n",
              "      display:flex;\n",
              "      gap: 12px;\n",
              "    }\n",
              "\n",
              "    .colab-df-convert {\n",
              "      background-color: #E8F0FE;\n",
              "      border: none;\n",
              "      border-radius: 50%;\n",
              "      cursor: pointer;\n",
              "      display: none;\n",
              "      fill: #1967D2;\n",
              "      height: 32px;\n",
              "      padding: 0 0 0 0;\n",
              "      width: 32px;\n",
              "    }\n",
              "\n",
              "    .colab-df-convert:hover {\n",
              "      background-color: #E2EBFA;\n",
              "      box-shadow: 0px 1px 2px rgba(60, 64, 67, 0.3), 0px 1px 3px 1px rgba(60, 64, 67, 0.15);\n",
              "      fill: #174EA6;\n",
              "    }\n",
              "\n",
              "    .colab-df-buttons div {\n",
              "      margin-bottom: 4px;\n",
              "    }\n",
              "\n",
              "    [theme=dark] .colab-df-convert {\n",
              "      background-color: #3B4455;\n",
              "      fill: #D2E3FC;\n",
              "    }\n",
              "\n",
              "    [theme=dark] .colab-df-convert:hover {\n",
              "      background-color: #434B5C;\n",
              "      box-shadow: 0px 1px 3px 1px rgba(0, 0, 0, 0.15);\n",
              "      filter: drop-shadow(0px 1px 2px rgba(0, 0, 0, 0.3));\n",
              "      fill: #FFFFFF;\n",
              "    }\n",
              "  </style>\n",
              "\n",
              "    <script>\n",
              "      const buttonEl =\n",
              "        document.querySelector('#df-4d9e9de6-4943-45e5-a20a-59aaf6310b70 button.colab-df-convert');\n",
              "      buttonEl.style.display =\n",
              "        google.colab.kernel.accessAllowed ? 'block' : 'none';\n",
              "\n",
              "      async function convertToInteractive(key) {\n",
              "        const element = document.querySelector('#df-4d9e9de6-4943-45e5-a20a-59aaf6310b70');\n",
              "        const dataTable =\n",
              "          await google.colab.kernel.invokeFunction('convertToInteractive',\n",
              "                                                    [key], {});\n",
              "        if (!dataTable) return;\n",
              "\n",
              "        const docLinkHtml = 'Like what you see? Visit the ' +\n",
              "          '<a target=\"_blank\" href=https://colab.research.google.com/notebooks/data_table.ipynb>data table notebook</a>'\n",
              "          + ' to learn more about interactive tables.';\n",
              "        element.innerHTML = '';\n",
              "        dataTable['output_type'] = 'display_data';\n",
              "        await google.colab.output.renderOutput(dataTable, element);\n",
              "        const docLink = document.createElement('div');\n",
              "        docLink.innerHTML = docLinkHtml;\n",
              "        element.appendChild(docLink);\n",
              "      }\n",
              "    </script>\n",
              "  </div>\n",
              "\n",
              "\n",
              "<div id=\"df-a11cd6fa-0cde-43db-9da4-c89eeb74b8e4\">\n",
              "  <button class=\"colab-df-quickchart\" onclick=\"quickchart('df-a11cd6fa-0cde-43db-9da4-c89eeb74b8e4')\"\n",
              "            title=\"Suggest charts\"\n",
              "            style=\"display:none;\">\n",
              "\n",
              "<svg xmlns=\"http://www.w3.org/2000/svg\" height=\"24px\"viewBox=\"0 0 24 24\"\n",
              "     width=\"24px\">\n",
              "    <g>\n",
              "        <path d=\"M19 3H5c-1.1 0-2 .9-2 2v14c0 1.1.9 2 2 2h14c1.1 0 2-.9 2-2V5c0-1.1-.9-2-2-2zM9 17H7v-7h2v7zm4 0h-2V7h2v10zm4 0h-2v-4h2v4z\"/>\n",
              "    </g>\n",
              "</svg>\n",
              "  </button>\n",
              "\n",
              "<style>\n",
              "  .colab-df-quickchart {\n",
              "      --bg-color: #E8F0FE;\n",
              "      --fill-color: #1967D2;\n",
              "      --hover-bg-color: #E2EBFA;\n",
              "      --hover-fill-color: #174EA6;\n",
              "      --disabled-fill-color: #AAA;\n",
              "      --disabled-bg-color: #DDD;\n",
              "  }\n",
              "\n",
              "  [theme=dark] .colab-df-quickchart {\n",
              "      --bg-color: #3B4455;\n",
              "      --fill-color: #D2E3FC;\n",
              "      --hover-bg-color: #434B5C;\n",
              "      --hover-fill-color: #FFFFFF;\n",
              "      --disabled-bg-color: #3B4455;\n",
              "      --disabled-fill-color: #666;\n",
              "  }\n",
              "\n",
              "  .colab-df-quickchart {\n",
              "    background-color: var(--bg-color);\n",
              "    border: none;\n",
              "    border-radius: 50%;\n",
              "    cursor: pointer;\n",
              "    display: none;\n",
              "    fill: var(--fill-color);\n",
              "    height: 32px;\n",
              "    padding: 0;\n",
              "    width: 32px;\n",
              "  }\n",
              "\n",
              "  .colab-df-quickchart:hover {\n",
              "    background-color: var(--hover-bg-color);\n",
              "    box-shadow: 0 1px 2px rgba(60, 64, 67, 0.3), 0 1px 3px 1px rgba(60, 64, 67, 0.15);\n",
              "    fill: var(--button-hover-fill-color);\n",
              "  }\n",
              "\n",
              "  .colab-df-quickchart-complete:disabled,\n",
              "  .colab-df-quickchart-complete:disabled:hover {\n",
              "    background-color: var(--disabled-bg-color);\n",
              "    fill: var(--disabled-fill-color);\n",
              "    box-shadow: none;\n",
              "  }\n",
              "\n",
              "  .colab-df-spinner {\n",
              "    border: 2px solid var(--fill-color);\n",
              "    border-color: transparent;\n",
              "    border-bottom-color: var(--fill-color);\n",
              "    animation:\n",
              "      spin 1s steps(1) infinite;\n",
              "  }\n",
              "\n",
              "  @keyframes spin {\n",
              "    0% {\n",
              "      border-color: transparent;\n",
              "      border-bottom-color: var(--fill-color);\n",
              "      border-left-color: var(--fill-color);\n",
              "    }\n",
              "    20% {\n",
              "      border-color: transparent;\n",
              "      border-left-color: var(--fill-color);\n",
              "      border-top-color: var(--fill-color);\n",
              "    }\n",
              "    30% {\n",
              "      border-color: transparent;\n",
              "      border-left-color: var(--fill-color);\n",
              "      border-top-color: var(--fill-color);\n",
              "      border-right-color: var(--fill-color);\n",
              "    }\n",
              "    40% {\n",
              "      border-color: transparent;\n",
              "      border-right-color: var(--fill-color);\n",
              "      border-top-color: var(--fill-color);\n",
              "    }\n",
              "    60% {\n",
              "      border-color: transparent;\n",
              "      border-right-color: var(--fill-color);\n",
              "    }\n",
              "    80% {\n",
              "      border-color: transparent;\n",
              "      border-right-color: var(--fill-color);\n",
              "      border-bottom-color: var(--fill-color);\n",
              "    }\n",
              "    90% {\n",
              "      border-color: transparent;\n",
              "      border-bottom-color: var(--fill-color);\n",
              "    }\n",
              "  }\n",
              "</style>\n",
              "\n",
              "  <script>\n",
              "    async function quickchart(key) {\n",
              "      const quickchartButtonEl =\n",
              "        document.querySelector('#' + key + ' button');\n",
              "      quickchartButtonEl.disabled = true;  // To prevent multiple clicks.\n",
              "      quickchartButtonEl.classList.add('colab-df-spinner');\n",
              "      try {\n",
              "        const charts = await google.colab.kernel.invokeFunction(\n",
              "            'suggestCharts', [key], {});\n",
              "      } catch (error) {\n",
              "        console.error('Error during call to suggestCharts:', error);\n",
              "      }\n",
              "      quickchartButtonEl.classList.remove('colab-df-spinner');\n",
              "      quickchartButtonEl.classList.add('colab-df-quickchart-complete');\n",
              "    }\n",
              "    (() => {\n",
              "      let quickchartButtonEl =\n",
              "        document.querySelector('#df-a11cd6fa-0cde-43db-9da4-c89eeb74b8e4 button');\n",
              "      quickchartButtonEl.style.display =\n",
              "        google.colab.kernel.accessAllowed ? 'block' : 'none';\n",
              "    })();\n",
              "  </script>\n",
              "</div>\n",
              "\n",
              "    </div>\n",
              "  </div>\n"
            ],
            "application/vnd.google.colaboratory.intrinsic+json": {
              "type": "dataframe",
              "variable_name": "df",
              "summary": "{\n  \"name\": \"df\",\n  \"rows\": 17,\n  \"fields\": [\n    {\n      \"column\": \"pos_tag\",\n      \"properties\": {\n        \"dtype\": \"string\",\n        \"num_unique_values\": 17,\n        \"samples\": [\n          \"ADJ\",\n          \"ADP\",\n          \"DET\"\n        ],\n        \"semantic_type\": \"\",\n        \"description\": \"\"\n      }\n    },\n    {\n      \"column\": \"token\",\n      \"properties\": {\n        \"dtype\": \"object\",\n        \"semantic_type\": \"\",\n        \"description\": \"\"\n      }\n    }\n  ]\n}"
            }
          },
          "metadata": {},
          "execution_count": 65
        }
      ]
    },
    {
      "cell_type": "code",
      "source": [
        "train_sents = [[word.form for word in sent] for sent in train_data]\n",
        "patch_sents = [[word.form for word in sent] for sent in patch_data]\n",
        "patch_gold = [[(word.form.lower(),word.pos) for word in sent] for sent in patch_data]\n",
        "test_sents  = [[(word.form.lower(),word.pos) for word in sent] for sent in test_data]"
      ],
      "metadata": {
        "id": "Vs8Qp2D_lND0"
      },
      "execution_count": 91,
      "outputs": []
    },
    {
      "cell_type": "code",
      "source": [
        "# primeiro vamos etiquetar o patch\n",
        "# quantificando as vezes ao invés de etiquetar tag b, etiquetou tag a\n",
        "# < tagA, tagB, number >\n",
        "\n",
        "def lexic_tag(tokens):\n",
        "  tagged = []\n",
        "  for token in tokens:\n",
        "    if token.lower()[-3:] in suffixes:\n",
        "       tagged.append((token,suf_to_tag[token.lower()[-3:]]))\n",
        "    else:\n",
        "       tagged.append((token,\"_\"))\n",
        "  return tagged"
      ],
      "metadata": {
        "id": "ks1GEJIGqJeD"
      },
      "execution_count": 99,
      "outputs": []
    },
    {
      "cell_type": "code",
      "source": [
        "def tag(tokens):\n",
        "  tagged = []\n",
        "  for token in tokens:\n",
        "    if token.lower()[-3:] in suffixes:\n",
        "       tagged.append((token,suf_to_tag[token.lower()[-3:]]))\n",
        "    else:\n",
        "       tagged.append((token,\"_\"))\n",
        "  return tagged"
      ],
      "metadata": {
        "id": "W4ytM09SYVky"
      },
      "execution_count": 66,
      "outputs": []
    },
    {
      "cell_type": "code",
      "source": [
        "def accuracy(predicted,gold):\n",
        "\n",
        "   acertos = len([predicted[i][j][1] for i in range(len(gold)) for j in range(len(gold[i])) if predicted[i][j][1]==gold[i][j][1]])\n",
        "   totais = sum([len(sent) for sent in gold])\n",
        "   return acertos/totais\n",
        "\n",
        "def abrangencia(predicted,gold):\n",
        "  tagged_tokens = 0\n",
        "\n",
        "  for sent in predicted:\n",
        "    for _, predicted_tag in sent:\n",
        "      if predicted_tag != \"_\":\n",
        "        tagged_tokens += 1\n",
        "  total_tokens = 0\n",
        "\n",
        "  for sent in gold:\n",
        "    for _, gold_tag in sent:\n",
        "      if gold_tag != \"_\":\n",
        "        total_tokens += 1\n",
        "  return tagged_tokens / total_tokens\n",
        "\n",
        "def F(predicted,gold):\n",
        "  return 2 * (abrangencia(predicted,gold) * accuracy(predicted,gold)) / (abrangencia(predicted,gold) + accuracy(predicted,gold))"
      ],
      "metadata": {
        "id": "wKeAIlsdOArQ"
      },
      "execution_count": 19,
      "outputs": []
    },
    {
      "cell_type": "code",
      "source": [
        "!wget http://marlovss.work.gd:8080/tomorrow/aula2/test.conllu"
      ],
      "metadata": {
        "id": "6xsx4167f0Az",
        "colab": {
          "base_uri": "https://localhost:8080/"
        },
        "outputId": "c8fa7d4d-8608-49c5-de35-d4deecf550fa"
      },
      "execution_count": 20,
      "outputs": [
        {
          "output_type": "stream",
          "name": "stdout",
          "text": [
            "--2024-10-25 01:35:11--  http://marlovss.work.gd:8080/tomorrow/aula2/test.conllu\n",
            "Resolving marlovss.work.gd (marlovss.work.gd)... 177.180.148.12\n",
            "Connecting to marlovss.work.gd (marlovss.work.gd)|177.180.148.12|:8080... connected.\n",
            "HTTP request sent, awaiting response... 200 OK\n",
            "Length: 1819980 (1.7M)\n",
            "Saving to: ‘test.conllu’\n",
            "\n",
            "test.conllu         100%[===================>]   1.74M  1.40MB/s    in 1.2s    \n",
            "\n",
            "2024-10-25 01:35:13 (1.40 MB/s) - ‘test.conllu’ saved [1819980/1819980]\n",
            "\n"
          ]
        }
      ]
    },
    {
      "cell_type": "code",
      "source": [
        "test = CoNLLU(files=[\"test.conllu\"])\n",
        "test_sents = [[word.form for word in sent] for sent in test.sentences]\n",
        "gold = [[(word.form.lower(),word.pos) for word in sent] for sent in test.sentences]\n",
        "predicted = [tag(sent) for sent in test_sents]"
      ],
      "metadata": {
        "id": "1FchDpmwgr1x"
      },
      "execution_count": 21,
      "outputs": []
    },
    {
      "cell_type": "code",
      "source": [
        "def validate(train,test):\n",
        "  gold = [[(word.form.lower(),word.pos) for word in sent] for sent in test]\n",
        "  predicted = [tag(sent) for sent in train]\n",
        "  return {\n",
        "        'accuracy': accuracy(predicted,gold),\n",
        "        'coverage': abrangencia(predicted,gold),\n",
        "        \"F\" : F(predicted,gold)\n",
        "}"
      ],
      "metadata": {
        "id": "qGs1VyeFKv1j"
      },
      "execution_count": 22,
      "outputs": []
    },
    {
      "cell_type": "code",
      "source": [
        "def humanTaggingHelper():\n",
        "    tagged_sent = next((sent for sent in predicted if any(tag == \"_\" for _, tag in sent)), None)\n",
        "    if tagged_sent:\n",
        "        print(tagged_sent)\n",
        "        tokens = [token for token, _ in tagged_sent]\n",
        "        doc = spacy.tokens.Doc(nlp.vocab, words=tokens)\n",
        "        for token, (text, tag) in zip(doc, tagged_sent):\n",
        "            if tag != \"_\":\n",
        "                token.pos_ = tag\n",
        "            else:\n",
        "                token.tag_ = tag\n",
        "        displacy.render(doc, style='dep', jupyter=True, options={'distance': 70})"
      ],
      "metadata": {
        "id": "Vvc8_0bkbTyy"
      },
      "execution_count": 23,
      "outputs": []
    },
    {
      "cell_type": "code",
      "source": [
        "def add_rule_to_df(df, category, token):\n",
        "    token_lower = token.lower()\n",
        "    idx = df[df['pos_tag'] == category].index[0]\n",
        "    df.iloc[idx,1].add(token_lower)\n",
        "    print(f\"'{token_lower}' adicionado à regra {category}\")"
      ],
      "metadata": {
        "id": "pomWf6BJn073"
      },
      "execution_count": 24,
      "outputs": []
    },
    {
      "cell_type": "markdown",
      "source": [],
      "metadata": {
        "id": "CA2bCpUrq-o5"
      }
    },
    {
      "cell_type": "code",
      "source": [
        "from spacy import displacy\n",
        "categories = df.iloc[:,0]\n",
        "\n",
        "def humanTaggingHelper():\n",
        "    tagged_sent = next((sent for sent in predicted if any(tag == \"_\" for _, tag in sent)), None)\n",
        "    if tagged_sent:\n",
        "        print(tagged_sent)\n",
        "        tokens = [token for token, _ in tagged_sent]\n",
        "        doc = spacy.tokens.Doc(nlp.vocab, words=tokens)\n",
        "        for token, (text, tag) in zip(doc, tagged_sent):\n",
        "            if tag != \"_\":\n",
        "                token.pos_ = tag\n",
        "            else:\n",
        "                token.tag_ = tag\n",
        "        displacy.render(doc, style='dep', jupyter=True, options={'distance': 70})\n",
        "\n",
        "        print(\"Mapeamento de Categorias:\")\n",
        "        for i, category in enumerate(categories):\n",
        "            print(f\"{i} - {category}\")\n",
        "\n",
        "        for token, (text, tag) in zip(doc, tagged_sent):\n",
        "            if tag == \"_\":\n",
        "                new_tag = input(f\"Qual é a categoria de '{text}'? (Q para sair) \").strip().upper()\n",
        "                if new_tag == \"Q\":\n",
        "                    print(\"Encerrando o programa.\")\n",
        "                    return\n",
        "                if new_tag.isdigit() and int(new_tag) < len(categories):\n",
        "                    category = categories[int(new_tag)]\n",
        "                    add_rule_to_df(df, category, text)\n",
        "                else:\n",
        "                    print(f\"Entrada inválida ou categoria não encontrada.\")"
      ],
      "metadata": {
        "id": "h9TxTCukirj2"
      },
      "execution_count": 25,
      "outputs": []
    },
    {
      "cell_type": "code",
      "source": [
        "predicted[0]"
      ],
      "metadata": {
        "id": "0ZjBidm7owti",
        "colab": {
          "base_uri": "https://localhost:8080/"
        },
        "outputId": "661a23aa-bf82-4eb0-e7ef-f7205171337f"
      },
      "execution_count": 26,
      "outputs": [
        {
          "output_type": "execute_result",
          "data": {
            "text/plain": [
              "[('Folha', 'NOUN'),\n",
              " ('--', 'PUNCT'),\n",
              " ('Como', 'ADP'),\n",
              " ('você', 'PRON'),\n",
              " ('recebeu', 'VERB'),\n",
              " ('a', 'DET'),\n",
              " ('notícia', 'NOUN'),\n",
              " ('de', 'ADP'),\n",
              " ('que', 'PRON'),\n",
              " ('seria', 'NOUN'),\n",
              " ('substituído', 'VERB'),\n",
              " ('?', 'PUNCT')]"
            ]
          },
          "metadata": {},
          "execution_count": 26
        }
      ]
    },
    {
      "cell_type": "code",
      "source": [
        "humanTaggingHelper()"
      ],
      "metadata": {
        "id": "tsVU9OrKjk1O",
        "colab": {
          "base_uri": "https://localhost:8080/",
          "height": 300
        },
        "outputId": "fe21a187-d77d-4b43-cb9d-3dc9727f88f1"
      },
      "execution_count": 27,
      "outputs": [
        {
          "output_type": "stream",
          "name": "stdout",
          "text": [
            "[('A', 'DET'), ('reivindicação', 'NOUN'), ('é', 'AUX'), ('de', 'ADP'), ('equiparação', 'NOUN'), ('salarial', 'ADJ'), ('com', 'ADP'), ('a', 'DET'), ('Polícia', 'NOUN'), ('Civil', 'ADJ'), ('de', 'ADP'), ('o', 'DET'), ('DF', '_'), (',', 'PUNCT'), ('o', 'DET'), ('que', 'PRON'), ('representaria', 'NOUN'), ('um', 'DET'), ('reajuste', 'DET'), ('de', 'ADP'), ('300', 'NUM'), ('%', 'SYM'), ('.', 'PUNCT')]\n"
          ]
        },
        {
          "output_type": "error",
          "ename": "NameError",
          "evalue": "name 'nlp' is not defined",
          "traceback": [
            "\u001b[0;31m---------------------------------------------------------------------------\u001b[0m",
            "\u001b[0;31mNameError\u001b[0m                                 Traceback (most recent call last)",
            "\u001b[0;32m<ipython-input-27-30d20f376f9e>\u001b[0m in \u001b[0;36m<cell line: 1>\u001b[0;34m()\u001b[0m\n\u001b[0;32m----> 1\u001b[0;31m \u001b[0mhumanTaggingHelper\u001b[0m\u001b[0;34m(\u001b[0m\u001b[0;34m)\u001b[0m\u001b[0;34m\u001b[0m\u001b[0;34m\u001b[0m\u001b[0m\n\u001b[0m",
            "\u001b[0;32m<ipython-input-25-4dd56e4eb078>\u001b[0m in \u001b[0;36mhumanTaggingHelper\u001b[0;34m()\u001b[0m\n\u001b[1;32m      7\u001b[0m         \u001b[0mprint\u001b[0m\u001b[0;34m(\u001b[0m\u001b[0mtagged_sent\u001b[0m\u001b[0;34m)\u001b[0m\u001b[0;34m\u001b[0m\u001b[0;34m\u001b[0m\u001b[0m\n\u001b[1;32m      8\u001b[0m         \u001b[0mtokens\u001b[0m \u001b[0;34m=\u001b[0m \u001b[0;34m[\u001b[0m\u001b[0mtoken\u001b[0m \u001b[0;32mfor\u001b[0m \u001b[0mtoken\u001b[0m\u001b[0;34m,\u001b[0m \u001b[0m_\u001b[0m \u001b[0;32min\u001b[0m \u001b[0mtagged_sent\u001b[0m\u001b[0;34m]\u001b[0m\u001b[0;34m\u001b[0m\u001b[0;34m\u001b[0m\u001b[0m\n\u001b[0;32m----> 9\u001b[0;31m         \u001b[0mdoc\u001b[0m \u001b[0;34m=\u001b[0m \u001b[0mspacy\u001b[0m\u001b[0;34m.\u001b[0m\u001b[0mtokens\u001b[0m\u001b[0;34m.\u001b[0m\u001b[0mDoc\u001b[0m\u001b[0;34m(\u001b[0m\u001b[0mnlp\u001b[0m\u001b[0;34m.\u001b[0m\u001b[0mvocab\u001b[0m\u001b[0;34m,\u001b[0m \u001b[0mwords\u001b[0m\u001b[0;34m=\u001b[0m\u001b[0mtokens\u001b[0m\u001b[0;34m)\u001b[0m\u001b[0;34m\u001b[0m\u001b[0;34m\u001b[0m\u001b[0m\n\u001b[0m\u001b[1;32m     10\u001b[0m         \u001b[0;32mfor\u001b[0m \u001b[0mtoken\u001b[0m\u001b[0;34m,\u001b[0m \u001b[0;34m(\u001b[0m\u001b[0mtext\u001b[0m\u001b[0;34m,\u001b[0m \u001b[0mtag\u001b[0m\u001b[0;34m)\u001b[0m \u001b[0;32min\u001b[0m \u001b[0mzip\u001b[0m\u001b[0;34m(\u001b[0m\u001b[0mdoc\u001b[0m\u001b[0;34m,\u001b[0m \u001b[0mtagged_sent\u001b[0m\u001b[0;34m)\u001b[0m\u001b[0;34m:\u001b[0m\u001b[0;34m\u001b[0m\u001b[0;34m\u001b[0m\u001b[0m\n\u001b[1;32m     11\u001b[0m             \u001b[0;32mif\u001b[0m \u001b[0mtag\u001b[0m \u001b[0;34m!=\u001b[0m \u001b[0;34m\"_\"\u001b[0m\u001b[0;34m:\u001b[0m\u001b[0;34m\u001b[0m\u001b[0;34m\u001b[0m\u001b[0m\n",
            "\u001b[0;31mNameError\u001b[0m: name 'nlp' is not defined"
          ]
        }
      ]
    },
    {
      "cell_type": "code",
      "source": [
        "df"
      ],
      "metadata": {
        "id": "InBM8IfLspyp"
      },
      "execution_count": null,
      "outputs": []
    },
    {
      "cell_type": "code",
      "source": [
        "for sent in predicted:\n",
        "    if any(predicted_tag == \"_\" for _,predicted_tag in sent):\n",
        "      print(str(sent))\n",
        "      break"
      ],
      "metadata": {
        "id": "7t-e9h0Dm4Gj"
      },
      "execution_count": null,
      "outputs": []
    },
    {
      "cell_type": "code",
      "source": [
        "test_sents[0]\n",
        "sent = \"\"\n",
        "for word in test_sents[0]:\n",
        "  sent += word + \" \"\n",
        "print(sent)"
      ],
      "metadata": {
        "id": "2ms0UKnE9L_U"
      },
      "execution_count": null,
      "outputs": []
    },
    {
      "cell_type": "markdown",
      "source": [
        "## Fazendo nosso lematizador e analisador de flexões\n",
        "\n",
        "O lematizador e a análise flexional podem ser realizados em conuunto, uma vez que determinar as flexões nos permitem \"desfazê-las\", i.e. obter uma versão \"normalizada\" do item lexical"
      ],
      "metadata": {
        "id": "AXIDA2Tis3Al"
      }
    }
  ]
}