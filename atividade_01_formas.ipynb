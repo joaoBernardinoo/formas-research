{
  "nbformat": 4,
  "nbformat_minor": 0,
  "metadata": {
    "colab": {
      "provenance": [],
      "include_colab_link": true
    },
    "kernelspec": {
      "name": "python3",
      "display_name": "Python 3"
    }
  },
  "cells": [
    {
      "cell_type": "markdown",
      "metadata": {
        "id": "view-in-github",
        "colab_type": "text"
      },
      "source": [
        "<a href=\"https://colab.research.google.com/github/joaoBernardinoo/formas-research/blob/main/atividade_01_formas.ipynb\" target=\"_parent\"><img src=\"https://colab.research.google.com/assets/colab-badge.svg\" alt=\"Open In Colab\"/></a>"
      ]
    },
    {
      "cell_type": "markdown",
      "source": [
        "# ✨ Etiquetagem de Classes Gramaticais em Palavras Baseadas em Regras ✨\n",
        "\n",
        "Este projeto implementa um **etiquetador morfológico baseado em regras** para o idioma português, inspirado no trabalho clássico de **Brill (1992)**. Utilizando o renomado **corpus Bosque**, o objetivo é por em prática o conhecimento adquirído durante minha iniciação científica, como também testar hipótese de que, mesmo sendo o português uma língua mais verbosa que o inglês, podemos aplicar etiquetas gramaticais corretas utilizando os três últimos caracteres dos tokens etiquetados em um corpus padrão ouro **( Bosque )**.\n",
        "\n",
        "🔍 **Destaques do Projeto**:\n",
        "- Utiliza técnicas de **Processamento de Linguagem Natural (PLN)**.\n",
        "- Baseado em regras linguísticas para análise morfológica.\n",
        "- Testa a eficiência de sufixos na **etiquetagem gramatical** em português.\n",
        "\n",
        "📊 **Corpus Utilizado**:\n",
        "- **Bosque** (um dos maiores e mais completos corpora da língua portuguesa).\n",
        "\n",
        "---\n",
        "\n",
        "### 📚 Referências\n",
        "\n",
        "BRILL, E. *A Simple Rule-Based Part of Speech Tagger*. Proceedings of the Third Conference on Applied Natural Language Processing. **ANLC ’92**. USA: Association for Computational Linguistics, 1992. Disponível em: [https://doi.org/10.3115/974499.974526](https://doi.org/10.3115/974499.974526)\n",
        "\n"
      ],
      "metadata": {
        "id": "RYctk8nD4aVC"
      }
    },
    {
      "cell_type": "code",
      "metadata": {
        "id": "jTIczJD7ItVX"
      },
      "source": [
        "import pickle\n",
        "import nltk\n",
        "import pandas as pd\n",
        "import numpy as np\n",
        "from sklearn.model_selection import train_test_split"
      ],
      "execution_count": null,
      "outputs": []
    },
    {
      "cell_type": "markdown",
      "source": [],
      "metadata": {
        "id": "sytvxxbuSfSH"
      }
    },
    {
      "cell_type": "code",
      "source": [
        "!pip install conllu\n",
        "!wget http://marlovss.work.gd:8080/tomorrow/aula2/bosque.conllu"
      ],
      "metadata": {
        "id": "HnkdNxnCmtn8",
        "colab": {
          "base_uri": "https://localhost:8080/"
        },
        "outputId": "680136da-d302-4d50-ad85-d144991ab862",
        "collapsed": true
      },
      "execution_count": null,
      "outputs": [
        {
          "output_type": "stream",
          "name": "stdout",
          "text": [
            "Requirement already satisfied: conllu in /usr/local/lib/python3.10/dist-packages (6.0.0)\n",
            "--2024-10-25 16:22:35--  http://marlovss.work.gd:8080/tomorrow/aula2/bosque.conllu\n",
            "Resolving marlovss.work.gd (marlovss.work.gd)... 177.180.148.12\n",
            "Connecting to marlovss.work.gd (marlovss.work.gd)|177.180.148.12|:8080... connected.\n",
            "HTTP request sent, awaiting response... 200 OK\n",
            "Length: 11291250 (11M)\n",
            "Saving to: ‘bosque.conllu.1’\n",
            "\n",
            "bosque.conllu.1     100%[===================>]  10.77M   752KB/s    in 15s     \n",
            "\n",
            "2024-10-25 16:22:52 (715 KB/s) - ‘bosque.conllu.1’ saved [11291250/11291250]\n",
            "\n"
          ]
        }
      ]
    },
    {
      "cell_type": "code",
      "source": [
        "import conllu\n",
        "import itertools as it\n",
        "\n",
        "class AttributeDict(dict):\n",
        "    __getattr__ = dict.__getitem__\n",
        "    __setattr__ = dict.__setitem__\n",
        "    __delattr__ = dict.__delitem__\n",
        "\n",
        "class CoNLLU:\n",
        "   def __init__(self, files):\n",
        "      self.words = []\n",
        "      self.sentences = []\n",
        "      for f in files:\n",
        "         parsed = conllu.parse(open(f).read())\n",
        "         sents = [[AttributeDict(form = token['form'], lemma=token['lemma'],pos=token['upos'],feats=token['feats']) for token in tokenlist if token['upos']!='_'] for tokenlist in parsed]\n",
        "         self.sentences.extend(sents)\n",
        "         self.words.extend([word for sent in sents for word in sent])\n",
        "      self.pos_tags = set([word.pos for word in self.words])\n",
        "      self.feats_dict ={pos:set(it.chain.from_iterable([list(word.feats.keys()) for word in self.words if word.pos==pos and word.feats!= None])) for pos in self.pos_tags}\n"
      ],
      "metadata": {
        "id": "6whsxfkKmTnz"
      },
      "execution_count": null,
      "outputs": []
    },
    {
      "cell_type": "code",
      "source": [
        "from google.colab import drive\n",
        "drive.mount('/content/drive')\n"
      ],
      "metadata": {
        "colab": {
          "base_uri": "https://localhost:8080/"
        },
        "id": "c-TW_mVFMzPK",
        "outputId": "f5b07aed-6210-403d-a377-c7314a702ac4",
        "collapsed": true
      },
      "execution_count": null,
      "outputs": [
        {
          "output_type": "stream",
          "name": "stdout",
          "text": [
            "Drive already mounted at /content/drive; to attempt to forcibly remount, call drive.mount(\"/content/drive\", force_remount=True).\n"
          ]
        }
      ]
    },
    {
      "cell_type": "code",
      "source": [
        "bosque = CoNLLU(files=[\"bosque.conllu\"])"
      ],
      "metadata": {
        "id": "JY5mcN4Em2zK"
      },
      "execution_count": null,
      "outputs": []
    },
    {
      "cell_type": "code",
      "source": [
        "# aqui train_data, patch_data e test_data são o corpus \"bosque\" particionado por suas sentenćas, não palavras\n",
        "# deve-se verificar se todas as partićões abrangem todas as \"universal pos tags\"\n",
        "\n",
        "train_data, temp_data = train_test_split(bosque.sentences, test_size=0.1, random_state=42) # 90% train, 10% temp\n",
        "patch_data, test_data = train_test_split(temp_data, test_size=0.5, random_state=42) # Split the 10% into 5% patch and 5% test\n",
        "\n",
        "print(f\"Training data size: {len(train_data)}\")\n",
        "print(f\"Patch data size: {len(patch_data)}\")\n",
        "print(f\"Test data size: {len(test_data)}\")"
      ],
      "metadata": {
        "colab": {
          "base_uri": "https://localhost:8080/"
        },
        "id": "X670ynEPLr7D",
        "outputId": "48312875-6d18-4b52-ca82-4518c3a8e75a"
      },
      "execution_count": null,
      "outputs": [
        {
          "output_type": "stream",
          "name": "stdout",
          "text": [
            "Training data size: 6316\n",
            "Patch data size: 351\n",
            "Test data size: 351\n"
          ]
        }
      ]
    },
    {
      "cell_type": "code",
      "source": [
        "print(train_data[0])"
      ],
      "metadata": {
        "colab": {
          "base_uri": "https://localhost:8080/"
        },
        "id": "U-60soNSkHQu",
        "outputId": "f571a2fd-7e49-4f02-fd2f-21571e9f37af"
      },
      "execution_count": null,
      "outputs": [
        {
          "output_type": "stream",
          "name": "stdout",
          "text": [
            "[{'form': 'Afirmou', 'lemma': 'afirmar', 'pos': 'VERB', 'feats': {'Mood': 'Ind', 'Number': 'Sing', 'Person': '3', 'Tense': 'Past', 'VerbForm': 'Fin'}}, {'form': 'que', 'lemma': 'que', 'pos': 'SCONJ', 'feats': None}, {'form': 'o', 'lemma': 'o', 'pos': 'DET', 'feats': {'Definite': 'Def', 'Gender': 'Masc', 'Number': 'Sing', 'PronType': 'Art'}}, {'form': 'conjunto', 'lemma': 'conjunto', 'pos': 'NOUN', 'feats': {'Gender': 'Masc', 'Number': 'Sing'}}, {'form': 'de', 'lemma': 'de', 'pos': 'ADP', 'feats': None}, {'form': 'fatos', 'lemma': 'fato', 'pos': 'NOUN', 'feats': {'Gender': 'Masc', 'Number': 'Plur'}}, {'form': ',', 'lemma': ',', 'pos': 'PUNCT', 'feats': None}, {'form': 'em', 'lemma': 'em', 'pos': 'ADP', 'feats': None}, {'form': 'princípio', 'lemma': 'princípio', 'pos': 'NOUN', 'feats': {'Gender': 'Masc', 'Number': 'Sing'}}, {'form': ',', 'lemma': ',', 'pos': 'PUNCT', 'feats': None}, {'form': 'aponta', 'lemma': 'apontar', 'pos': 'VERB', 'feats': {'Mood': 'Ind', 'Number': 'Sing', 'Person': '3', 'Tense': 'Pres', 'VerbForm': 'Fin'}}, {'form': 'o', 'lemma': 'o', 'pos': 'DET', 'feats': {'Definite': 'Def', 'Gender': 'Masc', 'Number': 'Sing', 'PronType': 'Art'}}, {'form': 'envolvimento', 'lemma': 'envolvimento', 'pos': 'NOUN', 'feats': {'Gender': 'Masc', 'Number': 'Sing'}}, {'form': 'de', 'lemma': 'de', 'pos': 'ADP', 'feats': None}, {'form': 'Quércia', 'lemma': 'Quércia', 'pos': 'PROPN', 'feats': {'Gender': 'Masc', 'Number': 'Sing'}}, {'form': '.', 'lemma': '.', 'pos': 'PUNCT', 'feats': None}]\n"
          ]
        }
      ]
    },
    {
      "cell_type": "code",
      "source": [
        "train_words = sorted([word for sentence in train_data for word in sentence], key=lambda x: x.form)"
      ],
      "metadata": {
        "id": "PJFWs_VVkK3r"
      },
      "execution_count": null,
      "outputs": []
    },
    {
      "cell_type": "code",
      "source": [
        "from nltk.probability import FreqDist\n",
        "suffixes = set([word.form.lower()[-3:] for word in train_words])"
      ],
      "metadata": {
        "id": "7Hm33XPLszLa"
      },
      "execution_count": null,
      "outputs": []
    },
    {
      "cell_type": "code",
      "source": [
        "# O artigo utiliza 3 ultimos caracteres do token do corpus anotado na lingua inglesa,\n",
        "# hipótese ( precisa testar ): a língua portuguesa é mais verbosa, seria 3 caracteres o suficiente\n",
        "# para, por exemplo, contemplar todas as conjugaćões verbais??\n",
        "\n",
        "try:\n",
        "    with open('/content/drive/MyDrive/Colab Notebooks/suf_to_tag.pkl', 'rb') as f:\n",
        "        suf_to_tag = pickle.load(f)\n",
        "except FileNotFoundError:\n",
        "    print(\"Arquivo nao encontrado, extraindo os sufixos...\")\n",
        "    suf_to_tag = {suf: FreqDist([word.pos for word in train_words if word.form.lower()[-3:] == suf]).max() for suf in suffixes}\n",
        "\n",
        "    with open('/content/drive/MyDrive/Colab Notebooks/suf_to_tag.pkl', 'wb') as f:\n",
        "        pickle.dump(suf_to_tag, f)"
      ],
      "metadata": {
        "id": "8TXGTGCISoZE"
      },
      "execution_count": null,
      "outputs": []
    },
    {
      "cell_type": "code",
      "source": [
        "rules = {\n",
        "    'ADJ': [],\n",
        "    'ADP': [],\n",
        "    'ADV': [],\n",
        "    'AUX': [],\n",
        "    'CCONJ': [],\n",
        "    'DET': [],\n",
        "    'INTJ': [],\n",
        "    'NOUN': [],\n",
        "    'NUM': [],\n",
        "    'PART': [],\n",
        "    'PRON': [],\n",
        "    'PROPN': [],\n",
        "    'PUNCT': [],\n",
        "    'SCONJ': [],\n",
        "    'SYM': [],\n",
        "    'VERB': [],\n",
        "    'X': []\n",
        "}\n",
        "\n",
        "df = pd.DataFrame(list(rules.items()), columns=['pos_tag', 'token'])\n",
        "df['token'] = df['token'].apply(set)\n"
      ],
      "metadata": {
        "id": "X1fphrrOYSFr"
      },
      "execution_count": null,
      "outputs": []
    },
    {
      "cell_type": "code",
      "source": [
        "df.head()"
      ],
      "metadata": {
        "colab": {
          "base_uri": "https://localhost:8080/",
          "height": 206
        },
        "id": "w-WcpU31n-pN",
        "outputId": "b3b29066-31dd-45d0-d7be-6c76acde1116",
        "collapsed": true
      },
      "execution_count": null,
      "outputs": [
        {
          "output_type": "execute_result",
          "data": {
            "text/plain": [
              "  pos_tag token\n",
              "0     ADJ    {}\n",
              "1     ADP    {}\n",
              "2     ADV    {}\n",
              "3     AUX    {}\n",
              "4   CCONJ    {}"
            ],
            "text/html": [
              "\n",
              "  <div id=\"df-eed7197d-0558-4147-b35c-31dd1d7ebd6c\" class=\"colab-df-container\">\n",
              "    <div>\n",
              "<style scoped>\n",
              "    .dataframe tbody tr th:only-of-type {\n",
              "        vertical-align: middle;\n",
              "    }\n",
              "\n",
              "    .dataframe tbody tr th {\n",
              "        vertical-align: top;\n",
              "    }\n",
              "\n",
              "    .dataframe thead th {\n",
              "        text-align: right;\n",
              "    }\n",
              "</style>\n",
              "<table border=\"1\" class=\"dataframe\">\n",
              "  <thead>\n",
              "    <tr style=\"text-align: right;\">\n",
              "      <th></th>\n",
              "      <th>pos_tag</th>\n",
              "      <th>token</th>\n",
              "    </tr>\n",
              "  </thead>\n",
              "  <tbody>\n",
              "    <tr>\n",
              "      <th>0</th>\n",
              "      <td>ADJ</td>\n",
              "      <td>{}</td>\n",
              "    </tr>\n",
              "    <tr>\n",
              "      <th>1</th>\n",
              "      <td>ADP</td>\n",
              "      <td>{}</td>\n",
              "    </tr>\n",
              "    <tr>\n",
              "      <th>2</th>\n",
              "      <td>ADV</td>\n",
              "      <td>{}</td>\n",
              "    </tr>\n",
              "    <tr>\n",
              "      <th>3</th>\n",
              "      <td>AUX</td>\n",
              "      <td>{}</td>\n",
              "    </tr>\n",
              "    <tr>\n",
              "      <th>4</th>\n",
              "      <td>CCONJ</td>\n",
              "      <td>{}</td>\n",
              "    </tr>\n",
              "  </tbody>\n",
              "</table>\n",
              "</div>\n",
              "    <div class=\"colab-df-buttons\">\n",
              "\n",
              "  <div class=\"colab-df-container\">\n",
              "    <button class=\"colab-df-convert\" onclick=\"convertToInteractive('df-eed7197d-0558-4147-b35c-31dd1d7ebd6c')\"\n",
              "            title=\"Convert this dataframe to an interactive table.\"\n",
              "            style=\"display:none;\">\n",
              "\n",
              "  <svg xmlns=\"http://www.w3.org/2000/svg\" height=\"24px\" viewBox=\"0 -960 960 960\">\n",
              "    <path d=\"M120-120v-720h720v720H120Zm60-500h600v-160H180v160Zm220 220h160v-160H400v160Zm0 220h160v-160H400v160ZM180-400h160v-160H180v160Zm440 0h160v-160H620v160ZM180-180h160v-160H180v160Zm440 0h160v-160H620v160Z\"/>\n",
              "  </svg>\n",
              "    </button>\n",
              "\n",
              "  <style>\n",
              "    .colab-df-container {\n",
              "      display:flex;\n",
              "      gap: 12px;\n",
              "    }\n",
              "\n",
              "    .colab-df-convert {\n",
              "      background-color: #E8F0FE;\n",
              "      border: none;\n",
              "      border-radius: 50%;\n",
              "      cursor: pointer;\n",
              "      display: none;\n",
              "      fill: #1967D2;\n",
              "      height: 32px;\n",
              "      padding: 0 0 0 0;\n",
              "      width: 32px;\n",
              "    }\n",
              "\n",
              "    .colab-df-convert:hover {\n",
              "      background-color: #E2EBFA;\n",
              "      box-shadow: 0px 1px 2px rgba(60, 64, 67, 0.3), 0px 1px 3px 1px rgba(60, 64, 67, 0.15);\n",
              "      fill: #174EA6;\n",
              "    }\n",
              "\n",
              "    .colab-df-buttons div {\n",
              "      margin-bottom: 4px;\n",
              "    }\n",
              "\n",
              "    [theme=dark] .colab-df-convert {\n",
              "      background-color: #3B4455;\n",
              "      fill: #D2E3FC;\n",
              "    }\n",
              "\n",
              "    [theme=dark] .colab-df-convert:hover {\n",
              "      background-color: #434B5C;\n",
              "      box-shadow: 0px 1px 3px 1px rgba(0, 0, 0, 0.15);\n",
              "      filter: drop-shadow(0px 1px 2px rgba(0, 0, 0, 0.3));\n",
              "      fill: #FFFFFF;\n",
              "    }\n",
              "  </style>\n",
              "\n",
              "    <script>\n",
              "      const buttonEl =\n",
              "        document.querySelector('#df-eed7197d-0558-4147-b35c-31dd1d7ebd6c button.colab-df-convert');\n",
              "      buttonEl.style.display =\n",
              "        google.colab.kernel.accessAllowed ? 'block' : 'none';\n",
              "\n",
              "      async function convertToInteractive(key) {\n",
              "        const element = document.querySelector('#df-eed7197d-0558-4147-b35c-31dd1d7ebd6c');\n",
              "        const dataTable =\n",
              "          await google.colab.kernel.invokeFunction('convertToInteractive',\n",
              "                                                    [key], {});\n",
              "        if (!dataTable) return;\n",
              "\n",
              "        const docLinkHtml = 'Like what you see? Visit the ' +\n",
              "          '<a target=\"_blank\" href=https://colab.research.google.com/notebooks/data_table.ipynb>data table notebook</a>'\n",
              "          + ' to learn more about interactive tables.';\n",
              "        element.innerHTML = '';\n",
              "        dataTable['output_type'] = 'display_data';\n",
              "        await google.colab.output.renderOutput(dataTable, element);\n",
              "        const docLink = document.createElement('div');\n",
              "        docLink.innerHTML = docLinkHtml;\n",
              "        element.appendChild(docLink);\n",
              "      }\n",
              "    </script>\n",
              "  </div>\n",
              "\n",
              "\n",
              "<div id=\"df-86b91a4f-a3b5-43f7-8b25-115acc064cb3\">\n",
              "  <button class=\"colab-df-quickchart\" onclick=\"quickchart('df-86b91a4f-a3b5-43f7-8b25-115acc064cb3')\"\n",
              "            title=\"Suggest charts\"\n",
              "            style=\"display:none;\">\n",
              "\n",
              "<svg xmlns=\"http://www.w3.org/2000/svg\" height=\"24px\"viewBox=\"0 0 24 24\"\n",
              "     width=\"24px\">\n",
              "    <g>\n",
              "        <path d=\"M19 3H5c-1.1 0-2 .9-2 2v14c0 1.1.9 2 2 2h14c1.1 0 2-.9 2-2V5c0-1.1-.9-2-2-2zM9 17H7v-7h2v7zm4 0h-2V7h2v10zm4 0h-2v-4h2v4z\"/>\n",
              "    </g>\n",
              "</svg>\n",
              "  </button>\n",
              "\n",
              "<style>\n",
              "  .colab-df-quickchart {\n",
              "      --bg-color: #E8F0FE;\n",
              "      --fill-color: #1967D2;\n",
              "      --hover-bg-color: #E2EBFA;\n",
              "      --hover-fill-color: #174EA6;\n",
              "      --disabled-fill-color: #AAA;\n",
              "      --disabled-bg-color: #DDD;\n",
              "  }\n",
              "\n",
              "  [theme=dark] .colab-df-quickchart {\n",
              "      --bg-color: #3B4455;\n",
              "      --fill-color: #D2E3FC;\n",
              "      --hover-bg-color: #434B5C;\n",
              "      --hover-fill-color: #FFFFFF;\n",
              "      --disabled-bg-color: #3B4455;\n",
              "      --disabled-fill-color: #666;\n",
              "  }\n",
              "\n",
              "  .colab-df-quickchart {\n",
              "    background-color: var(--bg-color);\n",
              "    border: none;\n",
              "    border-radius: 50%;\n",
              "    cursor: pointer;\n",
              "    display: none;\n",
              "    fill: var(--fill-color);\n",
              "    height: 32px;\n",
              "    padding: 0;\n",
              "    width: 32px;\n",
              "  }\n",
              "\n",
              "  .colab-df-quickchart:hover {\n",
              "    background-color: var(--hover-bg-color);\n",
              "    box-shadow: 0 1px 2px rgba(60, 64, 67, 0.3), 0 1px 3px 1px rgba(60, 64, 67, 0.15);\n",
              "    fill: var(--button-hover-fill-color);\n",
              "  }\n",
              "\n",
              "  .colab-df-quickchart-complete:disabled,\n",
              "  .colab-df-quickchart-complete:disabled:hover {\n",
              "    background-color: var(--disabled-bg-color);\n",
              "    fill: var(--disabled-fill-color);\n",
              "    box-shadow: none;\n",
              "  }\n",
              "\n",
              "  .colab-df-spinner {\n",
              "    border: 2px solid var(--fill-color);\n",
              "    border-color: transparent;\n",
              "    border-bottom-color: var(--fill-color);\n",
              "    animation:\n",
              "      spin 1s steps(1) infinite;\n",
              "  }\n",
              "\n",
              "  @keyframes spin {\n",
              "    0% {\n",
              "      border-color: transparent;\n",
              "      border-bottom-color: var(--fill-color);\n",
              "      border-left-color: var(--fill-color);\n",
              "    }\n",
              "    20% {\n",
              "      border-color: transparent;\n",
              "      border-left-color: var(--fill-color);\n",
              "      border-top-color: var(--fill-color);\n",
              "    }\n",
              "    30% {\n",
              "      border-color: transparent;\n",
              "      border-left-color: var(--fill-color);\n",
              "      border-top-color: var(--fill-color);\n",
              "      border-right-color: var(--fill-color);\n",
              "    }\n",
              "    40% {\n",
              "      border-color: transparent;\n",
              "      border-right-color: var(--fill-color);\n",
              "      border-top-color: var(--fill-color);\n",
              "    }\n",
              "    60% {\n",
              "      border-color: transparent;\n",
              "      border-right-color: var(--fill-color);\n",
              "    }\n",
              "    80% {\n",
              "      border-color: transparent;\n",
              "      border-right-color: var(--fill-color);\n",
              "      border-bottom-color: var(--fill-color);\n",
              "    }\n",
              "    90% {\n",
              "      border-color: transparent;\n",
              "      border-bottom-color: var(--fill-color);\n",
              "    }\n",
              "  }\n",
              "</style>\n",
              "\n",
              "  <script>\n",
              "    async function quickchart(key) {\n",
              "      const quickchartButtonEl =\n",
              "        document.querySelector('#' + key + ' button');\n",
              "      quickchartButtonEl.disabled = true;  // To prevent multiple clicks.\n",
              "      quickchartButtonEl.classList.add('colab-df-spinner');\n",
              "      try {\n",
              "        const charts = await google.colab.kernel.invokeFunction(\n",
              "            'suggestCharts', [key], {});\n",
              "      } catch (error) {\n",
              "        console.error('Error during call to suggestCharts:', error);\n",
              "      }\n",
              "      quickchartButtonEl.classList.remove('colab-df-spinner');\n",
              "      quickchartButtonEl.classList.add('colab-df-quickchart-complete');\n",
              "    }\n",
              "    (() => {\n",
              "      let quickchartButtonEl =\n",
              "        document.querySelector('#df-86b91a4f-a3b5-43f7-8b25-115acc064cb3 button');\n",
              "      quickchartButtonEl.style.display =\n",
              "        google.colab.kernel.accessAllowed ? 'block' : 'none';\n",
              "    })();\n",
              "  </script>\n",
              "</div>\n",
              "\n",
              "    </div>\n",
              "  </div>\n"
            ],
            "application/vnd.google.colaboratory.intrinsic+json": {
              "type": "dataframe",
              "variable_name": "df",
              "summary": "{\n  \"name\": \"df\",\n  \"rows\": 17,\n  \"fields\": [\n    {\n      \"column\": \"pos_tag\",\n      \"properties\": {\n        \"dtype\": \"string\",\n        \"num_unique_values\": 17,\n        \"samples\": [\n          \"ADJ\",\n          \"ADP\",\n          \"DET\"\n        ],\n        \"semantic_type\": \"\",\n        \"description\": \"\"\n      }\n    },\n    {\n      \"column\": \"token\",\n      \"properties\": {\n        \"dtype\": \"object\",\n        \"semantic_type\": \"\",\n        \"description\": \"\"\n      }\n    }\n  ]\n}"
            }
          },
          "metadata": {},
          "execution_count": 40
        }
      ]
    },
    {
      "cell_type": "code",
      "source": [
        "train_sents = [[word.form for word in sent] for sent in train_data]\n",
        "patch_sents = [[word.form for word in sent] for sent in patch_data]\n",
        "patch_gold = [[(word.form,word.pos) for word in sent] for sent in patch_data]\n",
        "test_gold  = [[(word.form.lower(),word.pos) for word in sent] for sent in test_data]"
      ],
      "metadata": {
        "id": "Vs8Qp2D_lND0"
      },
      "execution_count": null,
      "outputs": []
    },
    {
      "cell_type": "code",
      "source": [
        "# primeiro vamos etiquetar o patch\n",
        "# quantificando as vezes ao invés de etiquetar tag b, etiquetou tag a\n",
        "# < tagA, tagB, number >\n",
        "\n",
        "def lexic_tag(tokens):\n",
        "  tagged = []\n",
        "  for token in tokens:\n",
        "    if token.lower()[-3:] in suffixes:\n",
        "       tagged.append([token,suf_to_tag[token.lower()[-3:]]])\n",
        "    else:\n",
        "       tagged.append([token,\"_\"])\n",
        "  return tagged\n",
        "\n",
        "# has to add < tagA, tagB, number > to a list, when a word is mistagged with a tagA\n",
        "# when it should be tagB\n",
        "\n",
        "def lexic_tag_error(predicted,gold):\n",
        "  mistagged = []\n",
        "  for j in range(len(gold)):\n",
        "    for i in range(len(gold[j])):\n",
        "      tagA = predicted[j][i][1]\n",
        "      tagB = gold[j][i][1]\n",
        "      if tagA != tagB:\n",
        "        # caso o elemento < tagA,tagB, number > exista, incremente number\n",
        "        # caso contrário adicione < tagA, tagB,  1 > na lista\n",
        "        found = False\n",
        "        for k in range(len(mistagged)):\n",
        "            if mistagged[k][0] == tagA and mistagged[k][1] == tagB:\n",
        "                mistagged[k] = (tagA, tagB, mistagged[k][2] + 1)\n",
        "                found = True\n",
        "                break\n",
        "        if not found:\n",
        "            mistagged.append((tagA, tagB, 1))\n",
        "\n",
        "  return mistagged"
      ],
      "metadata": {
        "id": "ks1GEJIGqJeD"
      },
      "execution_count": null,
      "outputs": []
    },
    {
      "cell_type": "code",
      "source": [
        "patch_pred = [lexic_tag(sent) for sent in patch_sents]"
      ],
      "metadata": {
        "id": "ebxqb5E2xzCE"
      },
      "execution_count": null,
      "outputs": []
    },
    {
      "cell_type": "code",
      "source": [
        "print(patch_pred[0][1])\n",
        "print(patch_gold[0][1])\n",
        "print(f\"Aqui houve divergencia entre os dois, devemos adicionar \\n< {patch_pred[0][1][1]},{patch_gold[0][1][1]}, +1> na lista de triplas\")"
      ],
      "metadata": {
        "colab": {
          "base_uri": "https://localhost:8080/"
        },
        "id": "u-HvACB5zfeF",
        "outputId": "1711064c-aafd-44ca-8c86-363739529e3e"
      },
      "execution_count": null,
      "outputs": [
        {
          "output_type": "stream",
          "name": "stdout",
          "text": [
            "['substitutivo', 'ADJ']\n",
            "('substitutivo', 'NOUN')\n",
            "Aqui houve divergencia entre os dois, devemos adicionar \n",
            "< ADJ,NOUN, +1> na lista de triplas\n"
          ]
        }
      ]
    },
    {
      "cell_type": "code",
      "source": [
        "triples = lexic_tag_error(patch_pred,patch_gold)\n",
        "triples[:5]"
      ],
      "metadata": {
        "colab": {
          "base_uri": "https://localhost:8080/"
        },
        "id": "1rTONOb3y9A-",
        "outputId": "765f257b-ebc6-43fa-dcf4-26fe7e39e16f"
      },
      "execution_count": null,
      "outputs": [
        {
          "output_type": "execute_result",
          "data": {
            "text/plain": [
              "[('ADJ', 'NOUN', 61),\n",
              " ('DET', 'ADP', 125),\n",
              " ('ADV', 'NOUN', 61),\n",
              " ('PROPN', 'NOUN', 67),\n",
              " ('VERB', 'NOUN', 120)]"
            ]
          },
          "metadata": {},
          "execution_count": 45
        }
      ]
    },
    {
      "cell_type": "code",
      "source": [
        "total_erros = sum([triple[2] for triple in triples])\n"
      ],
      "metadata": {
        "id": "UgqIXvH2nzbG"
      },
      "execution_count": null,
      "outputs": []
    },
    {
      "cell_type": "markdown",
      "source": [
        "### Utilizaremos os templates abaixo para gerar os patches:\n",
        "(Brill, 1992)\n",
        "Change tag a to tag b when:\n",
        "1. The preceding (following) word is tagged z.\n",
        "2. The word two before (after) is tagged z.\n",
        "3. One of the two preceding (following) words is tagged\n",
        "Z.\n",
        "4. One of the three preceding (following) words is\n",
        "tagged z.\n",
        "5. The preceding word is tagged z and the following\n",
        "word is tagged w.\n",
        "6. The preceding (following) word is tagged z and the\n",
        "word two before (after) is tagged w.\n",
        "7. The current word is (is not) capitalized.\n",
        "8. The previous word is (is not) capitalized."
      ],
      "metadata": {
        "id": "kwembB5K4FqT"
      }
    },
    {
      "cell_type": "code",
      "source": [
        "def preprocess_train_words(train_words):\n",
        "     \"\"\" Dicionário para checagem rápida das palavras do corpus de treino \"\"\"\n",
        "     word_to_tags = {}\n",
        "     for word_data in train_words:\n",
        "       form = word_data['form']\n",
        "       pos_tag = word_data['pos']\n",
        "       word_to_tags.setdefault(form, set()).add(pos_tag)\n",
        "     return word_to_tags\n",
        "\n",
        "word_to_tags_lookup = preprocess_train_words(train_words)"
      ],
      "metadata": {
        "id": "Q-PMkM0dJGZm"
      },
      "execution_count": null,
      "outputs": []
    },
    {
      "cell_type": "code",
      "source": [
        "def generate_templates(pos_tags):\n",
        "    templates = {}\n",
        "    for tag in pos_tags:\n",
        "        templates[tag] = []\n",
        "        # 1. The preceding (following) word is tagged z.\n",
        "        # 2. The word two before (after) is tagged z.\n",
        "        # 3. One of the two preceding (following) words is tagged Z.\n",
        "        # 4. One of the three preceding (following) words is tagged z.\n",
        "        # 5. The preceding word is tagged z and the following word is tagged w.\n",
        "        # 6. The preceding (following) word is tagged z and the word two before (after) is tagged w.\n",
        "        # 7. The current word is (is not) capitalized.\n",
        "        # 8. The previous word is (is not) capitalized.\n",
        "    return templates\n",
        "\n",
        "pos_tags = {'ADJ', 'ADP', 'ADV', 'AUX', 'CCONJ', 'DET', 'INTJ', 'NOUN', 'NUM', 'PART', 'PRON', 'PROPN', 'PUNCT', 'SCONJ', 'SYM', 'VERB', 'X'}\n",
        "templates = generate_templates(pos_tags)\n",
        "\n",
        "# Example usage (you'll need to adapt this to your specific needs)\n",
        "print(templates['NOUN'])\n",
        "\n",
        "# cada objeto da classe patch template tem 4 attributos ex:\n",
        "#  VERB PREP NEXT-TAG DET\n",
        "# The first patch states that if a word is tagged VERB\n",
        "# and the following word is tagged DET, then switch the\n",
        "# tag from VERB to PREP.\n",
        "\n",
        "class PatchTemplate():\n",
        "  def __init__(self, tagA, tagB, cond = [], tagC = \"_\"):\n",
        "    self.current = tagA\n",
        "    self.patch = tagB\n",
        "    self.cond = cond\n",
        "    self.next = tagC\n",
        "\n",
        "  def __str__(self):\n",
        "    return f\"{self.current} {self.next} {self.cond} {self.patch}\"\n",
        "  #   A patch which\n",
        "  # changes the tagging of a word from a to b only applies\n",
        "  # if the word has been tagged b somewhere in the training\n",
        "  # corpus.\n",
        "  def canTag(self, word):\n",
        "    \"\"\"Checa se o patch pode ser aplicando usando o dicionario de consulta\"\"\"\n",
        "    return self.next in word_to_tags_lookup.get(word.lower(), set())\n",
        "\n",
        "  def apply(self,predicted):\n",
        "    if self.canTag(predicted[0]):\n",
        "      predicted[1] = self.patch\n",
        "    return\n"
      ],
      "metadata": {
        "id": "wPJ9uoiv66FB",
        "outputId": "867bbfbe-e546-46e3-960b-b06605a9d519",
        "colab": {
          "base_uri": "https://localhost:8080/"
        }
      },
      "execution_count": null,
      "outputs": [
        {
          "output_type": "stream",
          "name": "stdout",
          "text": [
            "[]\n"
          ]
        }
      ]
    },
    {
      "cell_type": "code",
      "source": [
        "patch_pred[0][0]\n"
      ],
      "metadata": {
        "id": "ONeD0oiED0WN",
        "colab": {
          "base_uri": "https://localhost:8080/"
        },
        "outputId": "af496081-970b-433d-be1b-f6653de5e7b7"
      },
      "execution_count": null,
      "outputs": [
        {
          "output_type": "execute_result",
          "data": {
            "text/plain": [
              "['O', 'DET']"
            ]
          },
          "metadata": {},
          "execution_count": 48
        }
      ]
    },
    {
      "cell_type": "code",
      "source": [
        "def tag(tokens):\n",
        "  tagged = []\n",
        "  for token in tokens:\n",
        "    if token.lower()[-3:] in suffixes:\n",
        "       tagged.append((token,suf_to_tag[token.lower()[-3:]]))\n",
        "    else:\n",
        "       tagged.append((token,\"_\"))\n",
        "  return tagged"
      ],
      "metadata": {
        "id": "W4ytM09SYVky"
      },
      "execution_count": null,
      "outputs": []
    },
    {
      "cell_type": "code",
      "source": [
        "def accuracy(predicted,gold):\n",
        "\n",
        "   acertos = len([predicted[i][j][1] for i in range(len(gold)) for j in range(len(gold[i])) if predicted[i][j][1]==gold[i][j][1]])\n",
        "   totais = sum([len(sent) for sent in gold])\n",
        "   return acertos/totais\n",
        "\n",
        "def abrangencia(predicted,gold):\n",
        "  tagged_tokens = 0\n",
        "\n",
        "  for sent in predicted:\n",
        "    for _, predicted_tag in sent:\n",
        "      if predicted_tag != \"_\":\n",
        "        tagged_tokens += 1\n",
        "  total_tokens = 0\n",
        "\n",
        "  for sent in gold:\n",
        "    for _, gold_tag in sent:\n",
        "      if gold_tag != \"_\":\n",
        "        total_tokens += 1\n",
        "  return tagged_tokens / total_tokens\n",
        "\n",
        "def F(predicted,gold):\n",
        "  return 2 * (abrangencia(predicted,gold) * accuracy(predicted,gold)) / (abrangencia(predicted,gold) + accuracy(predicted,gold))"
      ],
      "metadata": {
        "id": "wKeAIlsdOArQ"
      },
      "execution_count": null,
      "outputs": []
    },
    {
      "cell_type": "code",
      "source": [
        "!wget http://marlovss.work.gd:8080/tomorrow/aula2/test.conllu"
      ],
      "metadata": {
        "id": "6xsx4167f0Az",
        "colab": {
          "base_uri": "https://localhost:8080/"
        },
        "outputId": "1d2baf22-7a4e-4f72-805f-0600234f4a4f"
      },
      "execution_count": null,
      "outputs": [
        {
          "output_type": "stream",
          "name": "stdout",
          "text": [
            "--2024-10-25 16:23:04--  http://marlovss.work.gd:8080/tomorrow/aula2/test.conllu\n",
            "Resolving marlovss.work.gd (marlovss.work.gd)... 177.180.148.12\n",
            "Connecting to marlovss.work.gd (marlovss.work.gd)|177.180.148.12|:8080... connected.\n",
            "HTTP request sent, awaiting response... 200 OK\n",
            "Length: 1819980 (1.7M)\n",
            "Saving to: ‘test.conllu.1’\n",
            "\n",
            "test.conllu.1       100%[===================>]   1.74M   784KB/s    in 2.3s    \n",
            "\n",
            "2024-10-25 16:23:07 (784 KB/s) - ‘test.conllu.1’ saved [1819980/1819980]\n",
            "\n"
          ]
        }
      ]
    },
    {
      "cell_type": "code",
      "source": [
        "test = CoNLLU(files=[\"test.conllu\"])\n",
        "test_sents = [[word.form for word in sent] for sent in test.sentences]\n",
        "gold = [[(word.form.lower(),word.pos) for word in sent] for sent in test.sentences]\n",
        "predicted = [tag(sent) for sent in test_sents]"
      ],
      "metadata": {
        "id": "1FchDpmwgr1x"
      },
      "execution_count": null,
      "outputs": []
    },
    {
      "cell_type": "code",
      "source": [
        "def validate(train,test):\n",
        "  gold = [[(word.form.lower(),word.pos) for word in sent] for sent in test]\n",
        "  predicted = [tag(sent) for sent in train]\n",
        "  return {\n",
        "        'accuracy': accuracy(predicted,gold),\n",
        "        'coverage': abrangencia(predicted,gold),\n",
        "        \"F\" : F(predicted,gold)\n",
        "}"
      ],
      "metadata": {
        "id": "qGs1VyeFKv1j"
      },
      "execution_count": null,
      "outputs": []
    }
  ]
}