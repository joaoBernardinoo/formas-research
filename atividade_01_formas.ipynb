{
  "nbformat": 4,
  "nbformat_minor": 0,
  "metadata": {
    "colab": {
      "provenance": [],
      "include_colab_link": true
    },
    "kernelspec": {
      "name": "python3",
      "display_name": "Python 3"
    }
  },
  "cells": [
    {
      "cell_type": "markdown",
      "metadata": {
        "id": "view-in-github",
        "colab_type": "text"
      },
      "source": [
        "<a href=\"https://colab.research.google.com/github/joaoBernardinoo/formas-research/blob/main/atividade_01_formas.ipynb\" target=\"_parent\"><img src=\"https://colab.research.google.com/assets/colab-badge.svg\" alt=\"Open In Colab\"/></a>"
      ]
    },
    {
      "cell_type": "markdown",
      "source": [
        "# ✨ Etiquetagem de Classes Gramaticais em Palavras Baseadas em Regras ✨\n",
        "\n",
        "Este projeto implementa um **etiquetador morfológico baseado em regras** para o idioma português, inspirado no trabalho clássico de **Brill (1992)**. Utilizando o renomado **corpus Bosque**, o objetivo é por em prática o conhecimento adquirído durante minha iniciação científica, como também testar hipótese de que, mesmo sendo o português uma língua mais verbosa que o inglês, podemos aplicar etiquetas gramaticais corretas utilizando os três últimos caracteres dos tokens etiquetados em um corpus padrão ouro **( Bosque )**.\n",
        "\n",
        "🔍 **Destaques do Projeto**:\n",
        "- Utiliza técnicas de **Processamento de Linguagem Natural (PLN)**.\n",
        "- Baseado em regras linguísticas para análise morfológica.\n",
        "- Testa a eficiência de sufixos na **etiquetagem gramatical** em português.\n",
        "\n",
        "📊 **Corpus Utilizado**:\n",
        "- **Bosque** (um dos maiores e mais completos corpora da língua portuguesa).\n",
        "\n",
        "---\n",
        "\n",
        "### 📚 Referências\n",
        "\n",
        "BRILL, E. *A Simple Rule-Based Part of Speech Tagger*. Proceedings of the Third Conference on Applied Natural Language Processing. **ANLC ’92**. USA: Association for Computational Linguistics, 1992. Disponível em: [https://doi.org/10.3115/974499.974526](https://doi.org/10.3115/974499.974526)\n",
        "\n"
      ],
      "metadata": {
        "id": "RYctk8nD4aVC"
      }
    },
    {
      "cell_type": "code",
      "metadata": {
        "id": "jTIczJD7ItVX"
      },
      "source": [
        "import pickle\n",
        "import nltk\n",
        "import pandas as pd\n",
        "import numpy as np\n",
        "import copy\n",
        "import itertools as it\n",
        "from sklearn.model_selection import train_test_split"
      ],
      "execution_count": 9,
      "outputs": []
    },
    {
      "cell_type": "markdown",
      "source": [],
      "metadata": {
        "id": "sytvxxbuSfSH"
      }
    },
    {
      "cell_type": "code",
      "source": [
        "!pip install conllu\n",
        "!wget http://marlovss.work.gd:8080/tomorrow/aula2/bosque.conllu"
      ],
      "metadata": {
        "id": "HnkdNxnCmtn8",
        "colab": {
          "base_uri": "https://localhost:8080/"
        },
        "outputId": "a5e63c6b-ed95-4036-cf5b-e4beeb539b38",
        "collapsed": true
      },
      "execution_count": 10,
      "outputs": [
        {
          "output_type": "stream",
          "name": "stdout",
          "text": [
            "Collecting conllu\n",
            "  Downloading conllu-6.0.0-py3-none-any.whl.metadata (21 kB)\n",
            "Downloading conllu-6.0.0-py3-none-any.whl (16 kB)\n",
            "Installing collected packages: conllu\n",
            "Successfully installed conllu-6.0.0\n",
            "--2024-11-01 14:37:56--  http://marlovss.work.gd:8080/tomorrow/aula2/bosque.conllu\n",
            "Resolving marlovss.work.gd (marlovss.work.gd)... failed: Temporary failure in name resolution.\n",
            "wget: unable to resolve host address ‘marlovss.work.gd’\n"
          ]
        }
      ]
    },
    {
      "cell_type": "code",
      "source": [
        "import conllu\n",
        "import itertools as it\n",
        "\n",
        "class AttributeDict(dict):\n",
        "    __getattr__ = dict.__getitem__\n",
        "    __setattr__ = dict.__setitem__\n",
        "    __delattr__ = dict.__delitem__\n",
        "\n",
        "class CoNLLU:\n",
        "   def __init__(self, files):\n",
        "      self.words = []\n",
        "      self.sentences = []\n",
        "      for f in files:\n",
        "         parsed = conllu.parse(open(f).read())\n",
        "         sents = [[AttributeDict(form = token['form'], lemma=token['lemma'],pos=token['upos'],feats=token['feats']) for token in tokenlist if token['upos']!='_'] for tokenlist in parsed]\n",
        "         self.sentences.extend(sents)\n",
        "         self.words.extend([word for sent in sents for word in sent])\n",
        "      self.pos_tags = set([word.pos for word in self.words])\n",
        "      self.feats_dict ={pos:set(it.chain.from_iterable([list(word.feats.keys()) for word in self.words if word.pos==pos and word.feats!= None])) for pos in self.pos_tags}\n"
      ],
      "metadata": {
        "id": "6whsxfkKmTnz"
      },
      "execution_count": 11,
      "outputs": []
    },
    {
      "cell_type": "code",
      "source": [
        "from google.colab import drive\n",
        "drive.mount('/content/drive')\n"
      ],
      "metadata": {
        "id": "c-TW_mVFMzPK",
        "collapsed": true
      },
      "execution_count": null,
      "outputs": []
    },
    {
      "cell_type": "code",
      "source": [
        "bosque = CoNLLU(files=[\"bosque.conllu\"])"
      ],
      "metadata": {
        "id": "JY5mcN4Em2zK"
      },
      "execution_count": null,
      "outputs": []
    },
    {
      "cell_type": "code",
      "source": [
        "# aqui train_data, patch_data e test_data são o corpus \"bosque\" particionado por suas sentenćas, não palavras\n",
        "# deve-se verificar se todas as partićões abrangem todas as \"universal pos tags\"\n",
        "\n",
        "train_data, temp_data = train_test_split(bosque.sentences, test_size=0.1, random_state=42) # 90% train, 10% temp\n",
        "patch_data, test_data = train_test_split(temp_data, test_size=0.5, random_state=42) # Split the 10% into 5% patch and 5% test\n",
        "\n",
        "print(f\"Training data size: {len(train_data)}\")\n",
        "print(f\"Patch data size: {len(patch_data)}\")\n",
        "print(f\"Test data size: {len(test_data)}\")"
      ],
      "metadata": {
        "id": "X670ynEPLr7D"
      },
      "execution_count": null,
      "outputs": []
    },
    {
      "cell_type": "code",
      "source": [
        "print(train_data[0])"
      ],
      "metadata": {
        "id": "U-60soNSkHQu"
      },
      "execution_count": null,
      "outputs": []
    },
    {
      "cell_type": "code",
      "source": [
        "train_words = sorted([word for sentence in train_data for word in sentence], key=lambda x: x.form)"
      ],
      "metadata": {
        "id": "PJFWs_VVkK3r"
      },
      "execution_count": null,
      "outputs": []
    },
    {
      "cell_type": "code",
      "source": [
        "from nltk.probability import FreqDist\n",
        "suffixes = set([word.form.lower()[-3:] for word in train_words])"
      ],
      "metadata": {
        "id": "7Hm33XPLszLa"
      },
      "execution_count": null,
      "outputs": []
    },
    {
      "cell_type": "code",
      "source": [
        "# O artigo utiliza 3 ultimos caracteres do token do corpus anotado na lingua inglesa,\n",
        "# hipótese ( precisa testar ): a língua portuguesa é mais verbosa, seria 3 caracteres o suficiente\n",
        "# para, por exemplo, contemplar todas as conjugaćões verbais??\n",
        "\n",
        "try:\n",
        "    with open('/content/drive/MyDrive/Colab Notebooks/suf_to_tag.pkl', 'rb') as f:\n",
        "        suf_to_tag = pickle.load(f)\n",
        "except FileNotFoundError:\n",
        "    print(\"Arquivo nao encontrado, extraindo os sufixos...\")\n",
        "    suf_to_tag = {suf: FreqDist([word.pos for word in train_words if word.form.lower()[-3:] == suf]).max() for suf in suffixes}\n",
        "\n",
        "    with open('/content/drive/MyDrive/Colab Notebooks/suf_to_tag.pkl', 'wb') as f:\n",
        "        pickle.dump(suf_to_tag, f)"
      ],
      "metadata": {
        "id": "8TXGTGCISoZE"
      },
      "execution_count": null,
      "outputs": []
    },
    {
      "cell_type": "code",
      "source": [
        "rules = {\n",
        "    'ADJ': [],\n",
        "    'ADP': [],\n",
        "    'ADV': [],\n",
        "    'AUX': [],\n",
        "    'CCONJ': [],\n",
        "    'DET': [],\n",
        "    'INTJ': [],\n",
        "    'NOUN': [],\n",
        "    'NUM': [],\n",
        "    'PART': [],\n",
        "    'PRON': [],\n",
        "    'PROPN': [],\n",
        "    'PUNCT': [],\n",
        "    'SCONJ': [],\n",
        "    'SYM': [],\n",
        "    'VERB': [],\n",
        "    'X': []\n",
        "}\n",
        "\n",
        "df = pd.DataFrame(list(rules.items()), columns=['pos_tag', 'token'])\n",
        "df['token'] = df['token'].apply(set)\n"
      ],
      "metadata": {
        "id": "X1fphrrOYSFr"
      },
      "execution_count": null,
      "outputs": []
    },
    {
      "cell_type": "code",
      "source": [
        "train_sents = [[word.form for word in sent] for sent in train_data]\n",
        "patch_sents = [[word.form for word in sent] for sent in patch_data]\n",
        "patch_gold = [[(word.form,word.pos) for word in sent] for sent in patch_data]\n",
        "test_gold  = [[(word.form.lower(),word.pos) for word in sent] for sent in test_data]"
      ],
      "metadata": {
        "id": "Vs8Qp2D_lND0"
      },
      "execution_count": null,
      "outputs": []
    },
    {
      "cell_type": "code",
      "source": [
        "# primeiro vamos etiquetar o patch\n",
        "# quantificando as vezes ao invés de etiquetar tag b, etiquetou tag a\n",
        "# < tagA, tagB, number >\n",
        "\n",
        "def lexic_tag(tokens):\n",
        "  tagged = []\n",
        "  for token in tokens:\n",
        "    if token.lower()[-3:] in suffixes:\n",
        "       tagged.append([token,suf_to_tag[token.lower()[-3:]]])\n",
        "    else:\n",
        "       tagged.append([token,\"_\"])\n",
        "  return tagged\n",
        "\n",
        "# has to add < tagA, tagB, number > to a list, when a word is mistagged with a tagA\n",
        "# when it should be tagB\n",
        "\n",
        "def lexic_tag_error(predicted,gold):\n",
        "  mistagged = []\n",
        "  for j in range(len(gold)):\n",
        "    for i in range(len(gold[j])):\n",
        "      tagA = predicted[j][i][1]\n",
        "      tagB = gold[j][i][1]\n",
        "      if tagA != tagB:\n",
        "        # caso o elemento < tagA,tagB, number > exista, incremente number\n",
        "        # caso contrário adicione < tagA, tagB,  1 > na lista\n",
        "        found = False\n",
        "        for k in range(len(mistagged)):\n",
        "            if mistagged[k][0] == tagA and mistagged[k][1] == tagB:\n",
        "                mistagged[k] = (tagA, tagB, mistagged[k][2] + 1)\n",
        "                found = True\n",
        "                break\n",
        "        if not found:\n",
        "            mistagged.append((tagA, tagB, 1))\n",
        "\n",
        "  return mistagged"
      ],
      "metadata": {
        "id": "ks1GEJIGqJeD"
      },
      "execution_count": null,
      "outputs": []
    },
    {
      "cell_type": "code",
      "source": [
        "patch_pred = [lexic_tag(sent) for sent in patch_sents]"
      ],
      "metadata": {
        "id": "ebxqb5E2xzCE"
      },
      "execution_count": null,
      "outputs": []
    },
    {
      "cell_type": "code",
      "source": [
        "print(patch_pred[0][1])\n",
        "print(patch_gold[0][1])\n",
        "print(f\"Aqui houve divergencia entre os dois, devemos adicionar \\n< {patch_pred[0][1][1]},{patch_gold[0][1][1]}, +1> na lista de triplas\")"
      ],
      "metadata": {
        "id": "u-HvACB5zfeF"
      },
      "execution_count": null,
      "outputs": []
    },
    {
      "cell_type": "code",
      "source": [
        "triples = lexic_tag_error(patch_pred,patch_gold)"
      ],
      "metadata": {
        "id": "1rTONOb3y9A-"
      },
      "execution_count": null,
      "outputs": []
    },
    {
      "cell_type": "code",
      "source": [
        "sorted_triples = sorted(triples, key=lambda x: x[2], reverse=True)\n",
        "sorted_triples[:5]"
      ],
      "metadata": {
        "id": "9e8c5RzSDXvb"
      },
      "execution_count": null,
      "outputs": []
    },
    {
      "cell_type": "code",
      "source": [
        "total_errors = sum([triple[2] for triple in triples])\n",
        "print(total_errors)"
      ],
      "metadata": {
        "id": "UgqIXvH2nzbG"
      },
      "execution_count": null,
      "outputs": []
    },
    {
      "cell_type": "markdown",
      "source": [
        "### Utilizaremos os templates abaixo para gerar os patches:\n",
        "(Brill, 1992)\n",
        "Change tag a to tag b when:\n",
        "1. The preceding (following) word is tagged z.\n",
        "2. The word two before (after) is tagged z.\n",
        "3. One of the two preceding (following) words is tagged\n",
        "Z.\n",
        "4. One of the three preceding (following) words is\n",
        "tagged z.\n",
        "5. The preceding word is tagged z and the following\n",
        "word is tagged w.\n",
        "6. The preceding (following) word is tagged z and the\n",
        "word two before (after) is tagged w.\n",
        "7. The current word is (is not) capitalized.\n",
        "8. The previous word is (is not) capitalized."
      ],
      "metadata": {
        "id": "kwembB5K4FqT"
      }
    },
    {
      "cell_type": "code",
      "source": [
        "def preprocess_train_words(train_words):\n",
        "     \"\"\" Dicionário para checagem rápida das palavras do corpus de treino \"\"\"\n",
        "     word_to_tags = {}\n",
        "     for word_data in train_words:\n",
        "       form = word_data['form']\n",
        "       pos_tag = word_data['pos']\n",
        "       word_to_tags.setdefault(form, set()).add(pos_tag)\n",
        "     return word_to_tags\n",
        "\n",
        "word_to_tags_lookup = preprocess_train_words(train_words)"
      ],
      "metadata": {
        "id": "Q-PMkM0dJGZm"
      },
      "execution_count": null,
      "outputs": []
    },
    {
      "cell_type": "code",
      "source": [
        "patches = []"
      ],
      "metadata": {
        "id": "rrBQIFK6CRzT"
      },
      "execution_count": null,
      "outputs": []
    },
    {
      "cell_type": "code",
      "source": [
        "conditions = [\n",
        "    \"NEXT-TAG\",\n",
        "    \"PREV-TAG\",\n",
        "    \"NEXT-2-TAG\",\n",
        "    \"PREV-2-TAG\",\n",
        "    \"NEXT-1-OR-2-TAG\",\n",
        "    \"PREV-1-OR-2-TAG\",\n",
        "    \"NEXT-1-OR-2-OR-3-TAG\",\n",
        "    \"PREV-1-OR-2-OR-3-TAG\",\n",
        "    \"PREV-TAG-NEXT-TAG\",\n",
        "    \"PREV-TAG-NEXT-2-TAG\",\n",
        "    \"PREV-2-TAG-NEXT-TAG\",\n",
        "    \"IS-CAPITALIZED\",\n",
        "    \"IS-NOT-CAPITALIZED\",\n",
        "    \"PREV-IS-CAPITALIZED\",\n",
        "    \"PREV-IS-NOT-CAPITALIZED\",\n",
        "]"
      ],
      "metadata": {
        "id": "_pMXIWGaG91n"
      },
      "execution_count": null,
      "outputs": []
    },
    {
      "cell_type": "code",
      "source": [
        "class PatchTemplate():\n",
        "  def __init__(self, tagA, tagB, cond, tagC = \"_\"):\n",
        "    self.current = tagA\n",
        "    self.patch = tagB\n",
        "    self.cond = cond\n",
        "    self.next = tagC\n",
        "\n",
        "  def __str__(self):\n",
        "    return f\"{self.current} {self.next} {self.cond} {self.patch}\"\n",
        "  #   A patch which\n",
        "  # changes the tagging of a word from a to b only applies\n",
        "  # if the word has been tagged b somewhere in the training\n",
        "  # corpus.\n",
        "  def __repr__(self):\n",
        "    return f\"{self.current} {self.next} {self.cond} {self.patch}\"\n",
        "\n",
        "  def canTag(self, token):\n",
        "    \"\"\"Checa se o patch pode ser aplicando usando o dicionario de consulta\"\"\"\n",
        "    return self.next in word_to_tags_lookup.get(token, set())\n",
        "\n",
        "  def apply(self,predicted):\n",
        "    predicted_copy = copy.deepcopy(predicted)\n",
        "    print(predicted_copy)\n",
        "    for token in predicted_copy:\n",
        "      if self.canTag(token[0]):\n",
        "          token[1] = self.patch\n",
        "\n",
        "          patched_error = lexic_tag_error([predicted_copy], patch_gold)\n",
        "          patched_error_sum = sum(err[2] for err in patched_error)\n",
        "\n",
        "          print(\"Original Error:\", total_errors)\n",
        "          print(\"Patched Error:\", patched_error_sum)\n",
        "\n",
        "          if patched_error_sum < total_errors:\n",
        "              predicted[:] = predicted_copy\n",
        "              patches.append(self)\n",
        "      break\n",
        "\n",
        "    return"
      ],
      "metadata": {
        "id": "L4WdXk3bRZWN"
      },
      "execution_count": null,
      "outputs": []
    },
    {
      "cell_type": "code",
      "source": [],
      "metadata": {
        "id": "zKnWLmzxnfIu"
      },
      "execution_count": null,
      "outputs": []
    },
    {
      "cell_type": "code",
      "source": [
        "conditions = [\n",
        "    \"NEXT-TAG\",\n",
        "    \"PREV-TAG\",\n",
        "    \"NEXT-2-TAG\",\n",
        "    \"PREV-2-TAG\",\n",
        "    \"NEXT-1-OR-2-TAG\",\n",
        "    \"PREV-1-OR-2-TAG\",\n",
        "    \"NEXT-1-OR-2-OR-3-TAG\",\n",
        "    \"PREV-1-OR-2-OR-3-TAG\",\n",
        "    \"PREV-TAG-NEXT-TAG\",\n",
        "    \"PREV-TAG-NEXT-2-TAG\",\n",
        "    \"PREV-2-TAG-NEXT-TAG\",\n",
        "    \"IS-CAPITALIZED\",\n",
        "    \"IS-NOT-CAPITALIZED\",\n",
        "    \"PREV-IS-CAPITALIZED\",\n",
        "    \"PREV-IS-NOT-CAPITALIZED\",\n",
        "]"
      ],
      "metadata": {
        "id": "g2WAjv-hmJZO"
      },
      "execution_count": null,
      "outputs": []
    },
    {
      "cell_type": "code",
      "source": [
        "def generate_templates(tagA, pos_tags,conditions):\n",
        "    templates = []\n",
        "    for tagB,tagC,conditions in it.product(pos_tags,pos_tags,conditions):\n",
        "\n",
        "        if tagB != tagC:\n",
        "            templates.append(PatchTemplate(tagA, tagB, conditions, tagC))\n",
        "        # 1. The preceding (following) word is tagged z.\n",
        "        # 2. The word two before (after) is tagged z.\n",
        "        # 3. One of the two preceding (following) words is tagged Z.\n",
        "        # 4. One of the three preceding (following) words is tagged z.\n",
        "        # 5. The preceding word is tagged z and the following word is tagged w.\n",
        "        # 6. The preceding (following) word is tagged z and the word two before (after) is tagged w.\n",
        "        # 7. The current word is (is not) capitalized.\n",
        "        # 8. The previous word is (is not) capitalized.\n",
        "    return templates\n",
        "\n",
        "pos_tags = {'ADJ', 'ADP', 'ADV', 'AUX', 'CCONJ', 'DET', 'INTJ', 'NOUN', 'NUM', 'PART', 'PRON', 'PROPN', 'PUNCT', 'SCONJ', 'SYM', 'VERB', 'X'}\n",
        "# conditions = [\"NEXT-TAG\",\"PREV-TAG\"]\n",
        "tagA = \"NUON\"\n",
        "templates = generate_templates(tagA,pos_tags, conditions)\n",
        "\n",
        "# cada objeto da classe patch template tem 4 attributos ex:\n",
        "#  VERB PREP NEXT-TAG DET\n",
        "# The first patch states that if a word is tagged VERB\n",
        "# and the following word is tagged DET, then switch the\n",
        "# tag from VERB to PREP.\n",
        "\n",
        "\n"
      ],
      "metadata": {
        "id": "wPJ9uoiv66FB"
      },
      "execution_count": null,
      "outputs": []
    },
    {
      "cell_type": "code",
      "source": [],
      "metadata": {
        "id": "H-hmNueKmfbS"
      },
      "execution_count": null,
      "outputs": []
    },
    {
      "cell_type": "code",
      "source": [
        "templates[0]"
      ],
      "metadata": {
        "id": "msStwa3GyiI_"
      },
      "execution_count": null,
      "outputs": []
    },
    {
      "cell_type": "code",
      "source": [
        "len(templates)"
      ],
      "metadata": {
        "id": "enK2Bxewl8TQ"
      },
      "execution_count": null,
      "outputs": []
    },
    {
      "cell_type": "code",
      "source": [
        "print(patch_pred[0][1])\n",
        "print(patch_gold[0][1])"
      ],
      "metadata": {
        "id": "ONeD0oiED0WN"
      },
      "execution_count": null,
      "outputs": []
    },
    {
      "cell_type": "code",
      "source": [
        "tagA = \"NOUN\"\n",
        "for tag in pos_tags:\n",
        "  if tag != tagA:\n",
        "    templates = generate_templates(tagA,pos_tags, conditions)\n",
        "    for template in templates:\n",
        "      template.apply(patch_pred[0])"
      ],
      "metadata": {
        "id": "hdpLgSm7mf9K"
      },
      "execution_count": null,
      "outputs": []
    },
    {
      "cell_type": "code",
      "source": [
        "print(patch_pred[0][1])\n",
        "print(patch_gold[0][1])"
      ],
      "metadata": {
        "id": "Rz6VzH92muHt"
      },
      "execution_count": null,
      "outputs": []
    },
    {
      "cell_type": "code",
      "source": [
        "def tag(tokens):\n",
        "  tagged = []\n",
        "  for token in tokens:\n",
        "    if token.lower()[-3:] in suffixes:\n",
        "       tagged.append((token,suf_to_tag[token.lower()[-3:]]))\n",
        "    else:\n",
        "       tagged.append((token,\"_\"))\n",
        "  return tagged"
      ],
      "metadata": {
        "id": "W4ytM09SYVky"
      },
      "execution_count": null,
      "outputs": []
    },
    {
      "cell_type": "code",
      "source": [
        "def accuracy(predicted,gold):\n",
        "\n",
        "   acertos = len([predicted[i][j][1] for i in range(len(gold)) for j in range(len(gold[i])) if predicted[i][j][1]==gold[i][j][1]])\n",
        "   totais = sum([len(sent) for sent in gold])\n",
        "   return acertos/totais\n",
        "\n",
        "def abrangencia(predicted,gold):\n",
        "  tagged_tokens = 0\n",
        "\n",
        "  for sent in predicted:\n",
        "    for _, predicted_tag in sent:\n",
        "      if predicted_tag != \"_\":\n",
        "        tagged_tokens += 1\n",
        "  total_tokens = 0\n",
        "\n",
        "  for sent in gold:\n",
        "    for _, gold_tag in sent:\n",
        "      if gold_tag != \"_\":\n",
        "        total_tokens += 1\n",
        "  return tagged_tokens / total_tokens\n",
        "\n",
        "def F(predicted,gold):\n",
        "  return 2 * (abrangencia(predicted,gold) * accuracy(predicted,gold)) / (abrangencia(predicted,gold) + accuracy(predicted,gold))"
      ],
      "metadata": {
        "id": "wKeAIlsdOArQ"
      },
      "execution_count": null,
      "outputs": []
    },
    {
      "cell_type": "code",
      "source": [
        "!wget http://marlovss.work.gd:8080/tomorrow/aula2/test.conllu"
      ],
      "metadata": {
        "id": "6xsx4167f0Az"
      },
      "execution_count": null,
      "outputs": []
    },
    {
      "cell_type": "code",
      "source": [
        "test = CoNLLU(files=[\"test.conllu\"])\n",
        "test_sents = [[word.form for word in sent] for sent in test.sentences]\n",
        "gold = [[(word.form.lower(),word.pos) for word in sent] for sent in test.sentences]\n",
        "predicted = [tag(sent) for sent in test_sents]"
      ],
      "metadata": {
        "id": "1FchDpmwgr1x"
      },
      "execution_count": null,
      "outputs": []
    },
    {
      "cell_type": "code",
      "source": [
        "def validate(train,test):\n",
        "  gold = [[(word.form.lower(),word.pos) for word in sent] for sent in test]\n",
        "  predicted = [tag(sent) for sent in train]\n",
        "  return {\n",
        "        'accuracy': accuracy(predicted,gold),\n",
        "        'coverage': abrangencia(predicted,gold),\n",
        "        \"F\" : F(predicted,gold)\n",
        "}"
      ],
      "metadata": {
        "id": "qGs1VyeFKv1j"
      },
      "execution_count": null,
      "outputs": []
    }
  ]
}