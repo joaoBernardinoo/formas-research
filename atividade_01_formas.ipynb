{
  "cells": [
    {
      "cell_type": "markdown",
      "metadata": {
        "colab_type": "text",
        "id": "view-in-github"
      },
      "source": [
        "<a href=\"https://colab.research.google.com/github/joaoBernardinoo/formas-research/blob/main/atividade_01_formas.ipynb\" target=\"_parent\"><img src=\"https://colab.research.google.com/assets/colab-badge.svg\" alt=\"Open In Colab\"/></a>"
      ]
    },
    {
      "cell_type": "markdown",
      "metadata": {
        "id": "RYctk8nD4aVC"
      },
      "source": [
        "# ✨ Etiquetagem de Classes Gramaticais em Palavras Baseadas em Regras ✨\n",
        "\n",
        "Este projeto implementa um **etiquetador morfológico baseado em regras** para o idioma português, inspirado no trabalho clássico de **Brill (1992)**. Utilizando o renomado **corpus Bosque**, o objetivo é por em prática o conhecimento adquirído durante minha iniciação científica, como também testar hipótese de que, mesmo sendo o português uma língua mais verbosa que o inglês, podemos aplicar etiquetas gramaticais corretas utilizando os três últimos caracteres dos tokens etiquetados em um corpus padrão ouro **( Bosque )**.\n",
        "\n",
        "🔍 **Destaques do Projeto**:\n",
        "- Utiliza técnicas de **Processamento de Linguagem Natural (PLN)**.\n",
        "- Baseado em regras linguísticas para análise morfológica.\n",
        "- Testa a eficiência de sufixos na **etiquetagem gramatical** em português.\n",
        "\n",
        "📊 **Corpus Utilizado**:\n",
        "- **Bosque** (um dos maiores e mais completos corpora da língua portuguesa).\n",
        "\n",
        "---\n",
        "\n",
        "### 📚 Referências\n",
        "\n",
        "BRILL, E. *A Simple Rule-Based Part of Speech Tagger*. Proceedings of the Third Conference on Applied Natural Language Processing. **ANLC ’92**. USA: Association for Computational Linguistics, 1992. Disponível em: [https://doi.org/10.3115/974499.974526](https://doi.org/10.3115/974499.974526)\n",
        "\n"
      ]
    },
    {
      "cell_type": "code",
      "execution_count": null,
      "metadata": {
        "id": "jTIczJD7ItVX"
      },
      "outputs": [],
      "source": [
        "import pickle\n",
        "import nltk\n",
        "import pandas as pd\n",
        "import numpy as np\n",
        "from sklearn.model_selection import train_test_split"
      ]
    },
    {
      "cell_type": "markdown",
      "metadata": {
        "id": "sytvxxbuSfSH"
      },
      "source": []
    },
    {
      "cell_type": "code",
      "execution_count": null,
      "metadata": {
        "colab": {
          "base_uri": "https://localhost:8080/"
        },
        "collapsed": true,
        "id": "HnkdNxnCmtn8",
        "outputId": "680136da-d302-4d50-ad85-d144991ab862"
      },
      "outputs": [],
      "source": [
        "!pip install conllu\n",
        "!wget http://marlovss.work.gd:8080/tomorrow/aula2/bosque.conllu"
      ]
    },
    {
      "cell_type": "code",
      "execution_count": null,
      "metadata": {
        "id": "6whsxfkKmTnz"
      },
      "outputs": [],
      "source": [
        "import conllu\n",
        "import itertools as it\n",
        "\n",
        "class AttributeDict(dict):\n",
        "    __getattr__ = dict.__getitem__\n",
        "    __setattr__ = dict.__setitem__\n",
        "    __delattr__ = dict.__delitem__\n",
        "\n",
        "class CoNLLU:\n",
        "   def __init__(self, files):\n",
        "      self.words = []\n",
        "      self.sentences = []\n",
        "      for f in files:\n",
        "         parsed = conllu.parse(open(f).read())\n",
        "         sents = [[AttributeDict(form = token['form'], lemma=token['lemma'],pos=token['upos'],feats=token['feats']) for token in tokenlist if token['upos']!='_'] for tokenlist in parsed]\n",
        "         self.sentences.extend(sents)\n",
        "         self.words.extend([word for sent in sents for word in sent])\n",
        "      self.pos_tags = set([word.pos for word in self.words])\n",
        "      self.feats_dict ={pos:set(it.chain.from_iterable([list(word.feats.keys()) for word in self.words if word.pos==pos and word.feats!= None])) for pos in self.pos_tags}\n"
      ]
    },
    {
      "cell_type": "code",
      "execution_count": null,
      "metadata": {
        "colab": {
          "base_uri": "https://localhost:8080/"
        },
        "collapsed": true,
        "id": "c-TW_mVFMzPK",
        "outputId": "f5b07aed-6210-403d-a377-c7314a702ac4"
      },
      "outputs": [],
      "source": [
        "from google.colab import drive\n",
        "drive.mount('/content/drive')\n"
      ]
    },
    {
      "cell_type": "code",
      "execution_count": null,
      "metadata": {
        "id": "JY5mcN4Em2zK"
      },
      "outputs": [],
      "source": [
        "bosque = CoNLLU(files=[\"bosque.conllu\"])"
      ]
    },
    {
      "cell_type": "code",
      "execution_count": null,
      "metadata": {
        "colab": {
          "base_uri": "https://localhost:8080/"
        },
        "id": "X670ynEPLr7D",
        "outputId": "48312875-6d18-4b52-ca82-4518c3a8e75a"
      },
      "outputs": [],
      "source": [
        "# aqui train_data, patch_data e test_data são o corpus \"bosque\" particionado por suas sentenćas, não palavras\n",
        "# deve-se verificar se todas as partićões abrangem todas as \"universal pos tags\"\n",
        "\n",
        "train_data, temp_data = train_test_split(bosque.sentences, test_size=0.1, random_state=42) # 90% train, 10% temp\n",
        "patch_data, test_data = train_test_split(temp_data, test_size=0.5, random_state=42) # Split the 10% into 5% patch and 5% test\n",
        "\n",
        "print(f\"Training data size: {len(train_data)}\")\n",
        "print(f\"Patch data size: {len(patch_data)}\")\n",
        "print(f\"Test data size: {len(test_data)}\")"
      ]
    },
    {
      "cell_type": "code",
      "execution_count": null,
      "metadata": {
        "colab": {
          "base_uri": "https://localhost:8080/"
        },
        "id": "U-60soNSkHQu",
        "outputId": "f571a2fd-7e49-4f02-fd2f-21571e9f37af"
      },
      "outputs": [],
      "source": [
        "print(train_data[0])"
      ]
    },
    {
      "cell_type": "code",
      "execution_count": null,
      "metadata": {
        "id": "PJFWs_VVkK3r"
      },
      "outputs": [],
      "source": [
        "train_words = sorted([word for sentence in train_data for word in sentence], key=lambda x: x.form)"
      ]
    },
    {
      "cell_type": "code",
      "execution_count": null,
      "metadata": {
        "id": "7Hm33XPLszLa"
      },
      "outputs": [],
      "source": [
        "from nltk.probability import FreqDist\n",
        "suffixes = set([word.form.lower()[-3:] for word in train_words])"
      ]
    },
    {
      "cell_type": "code",
      "execution_count": null,
      "metadata": {
        "id": "8TXGTGCISoZE"
      },
      "outputs": [],
      "source": [
        "# O artigo utiliza 3 ultimos caracteres do token do corpus anotado na lingua inglesa,\n",
        "# hipótese ( precisa testar ): a língua portuguesa é mais verbosa, seria 3 caracteres o suficiente\n",
        "# para, por exemplo, contemplar todas as conjugaćões verbais??\n",
        "\n",
        "try:\n",
        "    with open('/content/drive/MyDrive/Colab Notebooks/suf_to_tag.pkl', 'rb') as f:\n",
        "        suf_to_tag = pickle.load(f)\n",
        "except FileNotFoundError:\n",
        "    print(\"Arquivo nao encontrado, extraindo os sufixos...\")\n",
        "    suf_to_tag = {suf: FreqDist([word.pos for word in train_words if word.form.lower()[-3:] == suf]).max() for suf in suffixes}\n",
        "\n",
        "    with open('/content/drive/MyDrive/Colab Notebooks/suf_to_tag.pkl', 'wb') as f:\n",
        "        pickle.dump(suf_to_tag, f)"
      ]
    },
    {
      "cell_type": "code",
      "execution_count": null,
      "metadata": {
        "id": "X1fphrrOYSFr"
      },
      "outputs": [],
      "source": [
        "rules = {\n",
        "    'ADJ': [],\n",
        "    'ADP': [],\n",
        "    'ADV': [],\n",
        "    'AUX': [],\n",
        "    'CCONJ': [],\n",
        "    'DET': [],\n",
        "    'INTJ': [],\n",
        "    'NOUN': [],\n",
        "    'NUM': [],\n",
        "    'PART': [],\n",
        "    'PRON': [],\n",
        "    'PROPN': [],\n",
        "    'PUNCT': [],\n",
        "    'SCONJ': [],\n",
        "    'SYM': [],\n",
        "    'VERB': [],\n",
        "    'X': []\n",
        "}\n",
        "\n",
        "df = pd.DataFrame(list(rules.items()), columns=['pos_tag', 'token'])\n",
        "df['token'] = df['token'].apply(set)\n"
      ]
    },
    {
      "cell_type": "code",
      "execution_count": null,
      "metadata": {
        "colab": {
          "base_uri": "https://localhost:8080/",
          "height": 206
        },
        "collapsed": true,
        "id": "w-WcpU31n-pN",
        "outputId": "b3b29066-31dd-45d0-d7be-6c76acde1116"
      },
      "outputs": [],
      "source": [
        "df.head()"
      ]
    },
    {
      "cell_type": "code",
      "execution_count": null,
      "metadata": {
        "id": "Vs8Qp2D_lND0"
      },
      "outputs": [],
      "source": [
        "train_sents = [[word.form for word in sent] for sent in train_data]\n",
        "patch_sents = [[word.form for word in sent] for sent in patch_data]\n",
        "patch_gold = [[(word.form,word.pos) for word in sent] for sent in patch_data]\n",
        "test_gold  = [[(word.form.lower(),word.pos) for word in sent] for sent in test_data]"
      ]
    },
    {
      "cell_type": "code",
      "execution_count": null,
      "metadata": {
        "id": "ks1GEJIGqJeD"
      },
      "outputs": [],
      "source": [
        "# primeiro vamos etiquetar o patch\n",
        "# quantificando as vezes ao invés de etiquetar tag b, etiquetou tag a\n",
        "# < tagA, tagB, number >\n",
        "\n",
        "def lexic_tag(tokens):\n",
        "  tagged = []\n",
        "  for token in tokens:\n",
        "    if token.lower()[-3:] in suffixes:\n",
        "       tagged.append([token,suf_to_tag[token.lower()[-3:]]])\n",
        "    else:\n",
        "       tagged.append([token,\"_\"])\n",
        "  return tagged\n",
        "\n",
        "# has to add < tagA, tagB, number > to a list, when a word is mistagged with a tagA\n",
        "# when it should be tagB\n",
        "\n",
        "def lexic_tag_error(predicted,gold):\n",
        "  mistagged = []\n",
        "  for j in range(len(gold)):\n",
        "    for i in range(len(gold[j])):\n",
        "      tagA = predicted[j][i][1]\n",
        "      tagB = gold[j][i][1]\n",
        "      if tagA != tagB:\n",
        "        # caso o elemento < tagA,tagB, number > exista, incremente number\n",
        "        # caso contrário adicione < tagA, tagB,  1 > na lista\n",
        "        found = False\n",
        "        for k in range(len(mistagged)):\n",
        "            if mistagged[k][0] == tagA and mistagged[k][1] == tagB:\n",
        "                mistagged[k] = (tagA, tagB, mistagged[k][2] + 1)\n",
        "                found = True\n",
        "                break\n",
        "        if not found:\n",
        "            mistagged.append((tagA, tagB, 1))\n",
        "\n",
        "  return mistagged"
      ]
    },
    {
      "cell_type": "code",
      "execution_count": null,
      "metadata": {
        "id": "ebxqb5E2xzCE"
      },
      "outputs": [],
      "source": [
        "patch_pred = [lexic_tag(sent) for sent in patch_sents]"
      ]
    },
    {
      "cell_type": "code",
      "execution_count": null,
      "metadata": {
        "colab": {
          "base_uri": "https://localhost:8080/"
        },
        "id": "u-HvACB5zfeF",
        "outputId": "1711064c-aafd-44ca-8c86-363739529e3e"
      },
      "outputs": [],
      "source": [
        "print(patch_pred[0][1])\n",
        "print(patch_gold[0][1])\n",
        "print(f\"Aqui houve divergencia entre os dois, devemos adicionar \\n< {patch_pred[0][1][1]},{patch_gold[0][1][1]}, +1> na lista de triplas\")"
      ]
    },
    {
      "cell_type": "code",
      "execution_count": null,
      "metadata": {
        "colab": {
          "base_uri": "https://localhost:8080/"
        },
        "id": "1rTONOb3y9A-",
        "outputId": "765f257b-ebc6-43fa-dcf4-26fe7e39e16f"
      },
      "outputs": [],
      "source": [
        "triples = lexic_tag_error(patch_pred,patch_gold)\n",
        "triples[:5]"
      ]
    },
    {
      "cell_type": "code",
      "execution_count": null,
      "metadata": {
        "id": "UgqIXvH2nzbG"
      },
      "outputs": [],
      "source": [
        "total_erros = sum([triple[2] for triple in triples])\n"
      ]
    },
    {
      "cell_type": "markdown",
      "metadata": {
        "id": "kwembB5K4FqT"
      },
      "source": [
        "### Utilizaremos os templates abaixo para gerar os patches:\n",
        "(Brill, 1992)\n",
        "Change tag a to tag b when:\n",
        "1. The preceding (following) word is tagged z.\n",
        "2. The word two before (after) is tagged z.\n",
        "3. One of the two preceding (following) words is tagged\n",
        "Z.\n",
        "4. One of the three preceding (following) words is\n",
        "tagged z.\n",
        "5. The preceding word is tagged z and the following\n",
        "word is tagged w.\n",
        "6. The preceding (following) word is tagged z and the\n",
        "word two before (after) is tagged w.\n",
        "7. The current word is (is not) capitalized.\n",
        "8. The previous word is (is not) capitalized."
      ]
    },
    {
      "cell_type": "code",
      "execution_count": null,
      "metadata": {
        "id": "Q-PMkM0dJGZm"
      },
      "outputs": [],
      "source": [
        "def preprocess_train_words(train_words):\n",
        "     \"\"\" Dicionário para checagem rápida das palavras do corpus de treino \"\"\"\n",
        "     word_to_tags = {}\n",
        "     for word_data in train_words:\n",
        "       form = word_data['form']\n",
        "       pos_tag = word_data['pos']\n",
        "       word_to_tags.setdefault(form, set()).add(pos_tag)\n",
        "     return word_to_tags\n",
        "\n",
        "word_to_tags_lookup = preprocess_train_words(train_words)"
      ]
    },
    {
      "cell_type": "code",
      "execution_count": null,
      "metadata": {
        "colab": {
          "base_uri": "https://localhost:8080/"
        },
        "id": "wPJ9uoiv66FB",
        "outputId": "867bbfbe-e546-46e3-960b-b06605a9d519"
      },
      "outputs": [],
      "source": [
        "def generate_templates(pos_tags):\n",
        "    templates = {}\n",
        "    for tag in pos_tags:\n",
        "        templates[tag] = []\n",
        "        # 1. The preceding (following) word is tagged z.\n",
        "        # 2. The word two before (after) is tagged z.\n",
        "        # 3. One of the two preceding (following) words is tagged Z.\n",
        "        # 4. One of the three preceding (following) words is tagged z.\n",
        "        # 5. The preceding word is tagged z and the following word is tagged w.\n",
        "        # 6. The preceding (following) word is tagged z and the word two before (after) is tagged w.\n",
        "        # 7. The current word is (is not) capitalized.\n",
        "        # 8. The previous word is (is not) capitalized.\n",
        "    return templates\n",
        "\n",
        "pos_tags = {'ADJ', 'ADP', 'ADV', 'AUX', 'CCONJ', 'DET', 'INTJ', 'NOUN', 'NUM', 'PART', 'PRON', 'PROPN', 'PUNCT', 'SCONJ', 'SYM', 'VERB', 'X'}\n",
        "templates = generate_templates(pos_tags)\n",
        "\n",
        "# Example usage (you'll need to adapt this to your specific needs)\n",
        "print(templates['NOUN'])\n",
        "\n",
        "# cada objeto da classe patch template tem 4 attributos ex:\n",
        "#  VERB PREP NEXT-TAG DET\n",
        "# The first patch states that if a word is tagged VERB\n",
        "# and the following word is tagged DET, then switch the\n",
        "# tag from VERB to PREP.\n",
        "\n",
        "class PatchTemplate():\n",
        "  def __init__(self, tagA, tagB, cond = [], tagC = \"_\"):\n",
        "    self.current = tagA\n",
        "    self.patch = tagB\n",
        "    self.cond = cond\n",
        "    self.next = tagC\n",
        "\n",
        "  def __str__(self):\n",
        "    return f\"{self.current} {self.next} {self.cond} {self.patch}\"\n",
        "  #   A patch which\n",
        "  # changes the tagging of a word from a to b only applies\n",
        "  # if the word has been tagged b somewhere in the training\n",
        "  # corpus.\n",
        "  def canTag(self, word):\n",
        "    \"\"\"Checa se o patch pode ser aplicando usando o dicionario de consulta\"\"\"\n",
        "    return self.next in word_to_tags_lookup.get(word.lower(), set())\n",
        "\n",
        "  def apply(self,predicted):\n",
        "    if self.canTag(predicted[0]):\n",
        "      predicted[1] = self.patch\n",
        "    return\n"
      ]
    },
    {
      "cell_type": "code",
      "execution_count": null,
      "metadata": {
        "colab": {
          "base_uri": "https://localhost:8080/"
        },
        "id": "ONeD0oiED0WN",
        "outputId": "af496081-970b-433d-be1b-f6653de5e7b7"
      },
      "outputs": [],
      "source": [
        "patch_pred[0][0]\n"
      ]
    },
    {
      "cell_type": "code",
      "execution_count": null,
      "metadata": {
        "id": "W4ytM09SYVky"
      },
      "outputs": [],
      "source": [
        "def tag(tokens):\n",
        "  tagged = []\n",
        "  for token in tokens:\n",
        "    if token.lower()[-3:] in suffixes:\n",
        "       tagged.append((token,suf_to_tag[token.lower()[-3:]]))\n",
        "    else:\n",
        "       tagged.append((token,\"_\"))\n",
        "  return tagged"
      ]
    },
    {
      "cell_type": "code",
      "execution_count": null,
      "metadata": {
        "id": "wKeAIlsdOArQ"
      },
      "outputs": [],
      "source": [
        "def accuracy(predicted,gold):\n",
        "\n",
        "   acertos = len([predicted[i][j][1] for i in range(len(gold)) for j in range(len(gold[i])) if predicted[i][j][1]==gold[i][j][1]])\n",
        "   totais = sum([len(sent) for sent in gold])\n",
        "   return acertos/totais\n",
        "\n",
        "def abrangencia(predicted,gold):\n",
        "  tagged_tokens = 0\n",
        "\n",
        "  for sent in predicted:\n",
        "    for _, predicted_tag in sent:\n",
        "      if predicted_tag != \"_\":\n",
        "        tagged_tokens += 1\n",
        "  total_tokens = 0\n",
        "\n",
        "  for sent in gold:\n",
        "    for _, gold_tag in sent:\n",
        "      if gold_tag != \"_\":\n",
        "        total_tokens += 1\n",
        "  return tagged_tokens / total_tokens\n",
        "\n",
        "def F(predicted,gold):\n",
        "  return 2 * (abrangencia(predicted,gold) * accuracy(predicted,gold)) / (abrangencia(predicted,gold) + accuracy(predicted,gold))"
      ]
    },
    {
      "cell_type": "code",
      "execution_count": null,
      "metadata": {
        "colab": {
          "base_uri": "https://localhost:8080/"
        },
        "id": "6xsx4167f0Az",
        "outputId": "1d2baf22-7a4e-4f72-805f-0600234f4a4f"
      },
      "outputs": [],
      "source": [
        "!wget http://marlovss.work.gd:8080/tomorrow/aula2/test.conllu"
      ]
    },
    {
      "cell_type": "code",
      "execution_count": null,
      "metadata": {
        "id": "1FchDpmwgr1x"
      },
      "outputs": [],
      "source": [
        "test = CoNLLU(files=[\"test.conllu\"])\n",
        "test_sents = [[word.form for word in sent] for sent in test.sentences]\n",
        "gold = [[(word.form.lower(),word.pos) for word in sent] for sent in test.sentences]\n",
        "predicted = [tag(sent) for sent in test_sents]"
      ]
    },
    {
      "cell_type": "code",
      "execution_count": null,
      "metadata": {
        "id": "qGs1VyeFKv1j"
      },
      "outputs": [],
      "source": [
        "def validate(train,test):\n",
        "  gold = [[(word.form.lower(),word.pos) for word in sent] for sent in test]\n",
        "  predicted = [tag(sent) for sent in train]\n",
        "  return {\n",
        "        'accuracy': accuracy(predicted,gold),\n",
        "        'coverage': abrangencia(predicted,gold),\n",
        "        \"F\" : F(predicted,gold)\n",
        "}"
      ]
    }
  ],
  "metadata": {
    "colab": {
      "include_colab_link": true,
      "provenance": []
    },
    "kernelspec": {
      "display_name": "Python 3",
      "name": "python3"
    }
  },
  "nbformat": 4,
  "nbformat_minor": 0
}
